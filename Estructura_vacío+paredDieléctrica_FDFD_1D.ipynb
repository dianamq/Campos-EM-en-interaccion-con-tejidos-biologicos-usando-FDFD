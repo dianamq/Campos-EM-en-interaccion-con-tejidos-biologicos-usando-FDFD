{
 "cells": [
  {
   "cell_type": "markdown",
   "metadata": {},
   "source": [
    "# Caso vacío con pared dieléctrica\n"
   ]
  },
  {
   "cell_type": "code",
   "execution_count": 1,
   "metadata": {},
   "outputs": [],
   "source": [
    "%matplotlib inline\n",
    "from matplotlib import pyplot as plt\n",
    "from ipywidgets import interact"
   ]
  },
  {
   "cell_type": "code",
   "execution_count": null,
   "metadata": {},
   "outputs": [
    {
     "data": {
      "image/png": "[encoded data removed]",
      "text/plain": [
       "<Figure size 576x576 with 1 Axes>"
      ]
     },
     "metadata": {
      "needs_background": "light"
     },
     "output_type": "display_data"
    },
    {
     "name": "stderr",
     "output_type": "stream",
     "text": [
      "<ipython-input-2-78962cd075c2>:5: RuntimeWarning: divide by zero encountered in true_divide\n",
      "  err_k_p=(err_k/n2)*100\n"
     ]
    },
    {
     "name": "stdout",
     "output_type": "stream",
     "text": [
      "Ingrese el error aceptable para el método: 1\n"
     ]
    }
   ],
   "source": [
    "%run Cavidad_aire_FDFD_1D_C.F.Cero.ipynb"
   ]
  },
  {
   "cell_type": "code",
   "execution_count": null,
   "metadata": {},
   "outputs": [],
   "source": [
    "w=2*np.pi*fnum\n",
    "w"
   ]
  },
  {
   "cell_type": "code",
   "execution_count": null,
   "metadata": {},
   "outputs": [],
   "source": [
    "PPW = 10"
   ]
  },
  {
   "cell_type": "code",
   "execution_count": null,
   "metadata": {},
   "outputs": [],
   "source": [
    "a = 0\n",
    "b = 1                    # (Cavidad de 1 metro)\n",
    "L = b-a                  # Tamaño cavidad\n",
    "\n",
    "fmax = 3e9 \n",
    "\n",
    "e0 = 8.8541878176e-12    #Permitividad del vacio F/m \n",
    "m0 = (4e-7)*np.pi        #Permeabilidad del vacío (T*m)/A\n",
    "\n",
    "\n",
    "mr = 1                   #Permeabilidad relativa en el vacío\n",
    "er = 1                   #Permitividad relativa en el vacío\n",
    "erp = 2.1                #Permitividad relativa de la parafina\n",
    "mrp = 1\n",
    " \n",
    "\n",
    "#-----Permeabilidad en el vacío---------------------------------\n",
    "\n",
    "mu = mr * m0           \n",
    "\n",
    "#-----Permitividad en el vacío-----------------------------------\n",
    "\n",
    "eps = er * e0\n",
    "epsp = erp * e0\n",
    "\n",
    "#-------------------------------------\n",
    "\n",
    "n0 = math.sqrt(m0/e0)\n",
    "n = math.sqrt(mrp/erp)*n0\n",
    "n0,n"
   ]
  },
  {
   "cell_type": "code",
   "execution_count": null,
   "metadata": {},
   "outputs": [],
   "source": [
    "#Material\n",
    "\n",
    "L_p=input('Escoja el tamaño (en metros) del material a introducir en la cavidad: ')\n",
    "L_p=float(L_p)\n",
    " \n",
    "#Posiciones\n",
    "\n",
    "P0 = a\n",
    "P1 = input('Escoja la posición (en metros) a la cual quiere ubicar el material (con respecto al inicio de la cavidad desde la izquierda): ')\n",
    "P1 = float(P1)\n",
    "P2 = P1 + L_p\n",
    "P3 = L"
   ]
  },
  {
   "cell_type": "code",
   "execution_count": null,
   "metadata": {},
   "outputs": [],
   "source": [
    "#Vacío\n",
    "\n",
    "Lv1 = P1 - P0          # Tamaño de la cavidad con vacío antes del material\n",
    "Lv2 = P3 - P2          # Tamaño de la cavidad con vacío después del material\n",
    "\n",
    "            #Donde termina la cavidad/vacío\n",
    "Lv2,Lv1,L_p"
   ]
  },
  {
   "cell_type": "code",
   "execution_count": null,
   "metadata": {},
   "outputs": [],
   "source": [
    "#Velocidad de la onda electromagnética, lambda y dz asociado\n",
    "\n",
    "#-----------Material--------------\n",
    "\n",
    "c_p=(c0/np.sqrt(erp*mrp))                                                                                                     #https://www.tdx.cat/bitstream/handle/10803/6216/12capitulo03.pdf?sequence=12&isAllowed=y pag 16 / http://laplace.us.es/wiki/index.php/Electrostática_en_presencia_de_dieléctricos_(GIE)\n",
    "lam_min_p=c_p/fmax\n",
    "dz_p=(lam_min_p/PPW)\n",
    "\n",
    "c0,lam_min,lam_min_p,dz,dz_p"
   ]
  },
  {
   "cell_type": "code",
   "execution_count": null,
   "metadata": {},
   "outputs": [],
   "source": [
    "#Intervalos asociados a su dz particular \n",
    "\n",
    "#---------------Vacío----------------\n",
    "\n",
    "I_v1=np.ceil(Lv1/dz)+1                #Primera parte de la cavidad con vacío antes del material\n",
    "I_v1= I_v1.astype(int) \n",
    "I_v1_total = 2*(I_v1)               #Intervalos totales que incluyen E y H\n",
    "\n",
    "I_v2=np.ceil(Lv2/dz)+1                #Cavidad con vacío después del material\n",
    "I_v2= I_v2.astype(int)\n",
    "I_v2_total = 2*(I_v2)     \n",
    "\n",
    "#---------Material Parafina----------\n",
    "\n",
    "I_p=np.ceil(L_p/dz_p)+1\n",
    "I_p= I_p.astype(int)\n",
    "I_p_total = 2*(I_p) \n",
    "                       \n",
    "#-----------------------------------\n",
    "I=I_v1 + I_v2 + I_p                        # Total de intervalos en la cavidad\n",
    "It=2*I + 1                                 #Total de intervalos que incluye E y H\n",
    "Itotal=I_v1_total+I_v2_total+I_p_total +1      #Tamaño de la matriz para que incluya E y H\n",
    "\n",
    "#-------------Intervalos acumulados para las matrices------------\n",
    "\n",
    "I0=I_v1_total \n",
    "I0=I0.astype(int)\n",
    "\n",
    "I1=I0+I_p_total\n",
    "I1=I1.astype(int)\n",
    "\n",
    "I2=I1+I_v2_total\n",
    "I2=I2.astype(int)\n",
    "\n",
    "#-------------Posiciones------------\n",
    "\n",
    "#Campo Eléctrico\n",
    "\n",
    "#Tamaño-->I+1\n",
    "\n",
    "#Vacío antes del material\n",
    "\n",
    "zE_v1 = np.linspace(P0,P1,I_v1+1); dz1 = zE_v1[1] - zE_v1[0]#; nI_v1=np.ceil(Lv1/dzE_v1)+1; nI_v1= nI_v1.astype(int)  \n",
    "\n",
    "zh1 = 0.5*(zE_v1[0:-1]+zE_v1[1::]); dzh1 = zh1[1] - zh1[0]\n",
    "\n",
    "zE_p = np.linspace(P1,P2,I_p+1); dz2 = zE_p[1] - zE_p[0]#; nI_p=np.ceil(L_p/dzE_p)+1; nI_p= nI_p.astype(int)\n",
    "\n",
    "zh2 = 0.5*(zE_p[0:-1]+zE_p[1::]); dzh2 = zh2[1] - zh2[0]\n",
    "\n",
    "zE_v2=np.linspace(P2,P3,I_v2+1); dz3 = zE_v2[1] - zE_v2[0]#; nI_v2=np.ceil(Lv2/dzE_v2)+1; nI_v2= nI_v2.astype(int)  \n",
    "\n",
    "zh3 = 0.5*(zE_v2[0:-1]+zE_v2[1::]); dzh3 = zh3[1] - zh3[0]\n",
    "\n",
    "zE=np.hstack((zE_v1,zE_p[1::],zE_v2[1::])); dzE = zE[1] - zE[0]\n",
    "\n",
    "\n",
    "#Campo Magnético\n",
    "\n",
    "#Tamaño-->I\n",
    "\n",
    "zH=0.5*(zE[0:-1]+zE[1::])\n",
    "\n",
    "dzH=zH[1]-zH[0]\n",
    "dz1,dz2,dz3,dzh1,dzh2,dzh3"
   ]
  },
  {
   "cell_type": "code",
   "execution_count": null,
   "metadata": {},
   "outputs": [],
   "source": [
    "plt.plot(zE)"
   ]
  },
  {
   "cell_type": "code",
   "execution_count": null,
   "metadata": {},
   "outputs": [],
   "source": [
    "#Creación de matrices\n",
    "B= np.zeros((It,It), dtype=np.complex_)\n",
    "len(B)"
   ]
  },
  {
   "cell_type": "code",
   "execution_count": null,
   "metadata": {},
   "outputs": [],
   "source": [
    "def matriz():    \n",
    "#--------------------Vacío-------------------\n",
    "   \n",
    "    for v_1 in range(0,I0+1):                     \n",
    "        \n",
    "        if v_1%2==0:\n",
    "            \n",
    "            if v_1 == 0:    \n",
    "                \n",
    "                B[v_1][v_1+1] = -2*m0*c0\n",
    "                B[v_1][v_1+2] = -1\n",
    "                \n",
    "            if v_1 == I0:\n",
    "                \n",
    "                B[v_1][v_1-4] = -(1/2) \n",
    "                B[v_1][v_1-2] = (1) \n",
    "                                \n",
    "             \n",
    "            else:\n",
    "                \n",
    "                B[v_1][v_1-1] = (1/dz1)*n0*c0\n",
    "                B[v_1][v_1+1] = (-1/dz1)*n0*c0              \n",
    "                                    \n",
    "\n",
    "        elif v_1%2!=0:\n",
    "                \n",
    "            B[v_1][v_1-1] = (1/dzh1)*(1/n0)*c0\n",
    "            B[v_1][v_1+1] = (-1/dzh1)*(1/n0)*c0\n",
    "                \n",
    "                \n",
    "#--------------------Material-------------------\n",
    "\n",
    "    for pa in range(I0,I1+1):\n",
    "            \n",
    "        if pa%2 == 0:   \n",
    "            \n",
    "            if pa == I0:\n",
    "                \n",
    "                B[pa][pa+2] = (1) \n",
    "                B[pa][pa+4] =  -(1/2) \n",
    "                                \n",
    "                \n",
    "            if pa == I1:\n",
    "                \n",
    "                B[pa][pa-4] = -(1/2) \n",
    "                B[pa][pa-2] = (1) \n",
    "                \n",
    "                \n",
    "                       \n",
    "            B[pa][pa-1] = (1/dz2)*n*c_p\n",
    "            B[pa][pa+1] = (-1/dz2)*n*c_p\n",
    "                \n",
    "        elif pa%2 != 0:\n",
    "                \n",
    "            B[pa][pa-1] = (1/dzh2)*(1/n)*c_p\n",
    "            B[pa][pa+1] = (-1/dzh2)*(1/n)*c_p\n",
    "                \n",
    "\n",
    "#--------------------Vacío-------------------\n",
    "\n",
    "    for v_2 in range(I1,I2+1):                     \n",
    "        \n",
    "        if v_2%2==0:\n",
    "            \n",
    "            if v_2 == I1:\n",
    "                \n",
    "                B[v_2][v_2+2] = (1) \n",
    "                B[v_2][v_2+4] = -(1/2)\n",
    "            \n",
    "            elif v_2==I2:\n",
    "                \n",
    "                B[v_2][v_2-1] = 2*m0*c0\n",
    "                B[v_2][v_2-2] = -1\n",
    "                                       \n",
    "                \n",
    "            else:\n",
    "                \n",
    "                B[v_2][v_2-1] = (1/dz3)*n0*c0\n",
    "                B[v_2][v_2+1] = (-1/dz3)*n0*c0\n",
    "        \n",
    "        elif v_2%2!=0:\n",
    "            \n",
    "            B[v_2][v_2-1] = (1/dzh3)*(1/n0)*c0\n",
    "            B[v_2][v_2+1] = (-1/dzh3)*(1/n0)*c0\n",
    "\n",
    "    return(B)"
   ]
  },
  {
   "cell_type": "code",
   "execution_count": null,
   "metadata": {},
   "outputs": [],
   "source": [
    "matriz()[42:46,42:46]\n",
    "I1,I0,I2"
   ]
  },
  {
   "cell_type": "code",
   "execution_count": null,
   "metadata": {},
   "outputs": [],
   "source": [
    "plt.spy(matriz()[40:52,40:52])"
   ]
  },
  {
   "cell_type": "code",
   "execution_count": null,
   "metadata": {},
   "outputs": [],
   "source": [
    "matriz()"
   ]
  },
  {
   "cell_type": "markdown",
   "metadata": {},
   "source": [
    "### Valores y vectores propios"
   ]
  },
  {
   "cell_type": "code",
   "execution_count": null,
   "metadata": {},
   "outputs": [],
   "source": [
    "Lp,Vp=np.linalg.eig(B)    #Lp--> valores propios, V--> vectores propios"
   ]
  },
  {
   "cell_type": "markdown",
   "metadata": {},
   "source": [
    "### Índices de los valores propios\n",
    "\n",
    "Se organiza la parte imaginaria de los valores propios de menor a mayor y se obtienen sus índices para poder asociarlos a los vectores propios."
   ]
  },
  {
   "cell_type": "code",
   "execution_count": null,
   "metadata": {},
   "outputs": [],
   "source": [
    "idx = np.argsort(Lp.imag)   #Toma los valores propios y los organiza de menor a mayor y se le asigna un índice a cada uno\n",
    "L1 = Lp[idx]                #Se organizan los valores propios usando el índice que se tomó en el paso anterior\n",
    "Vp1 = Vp[:,idx]            #Toma el índice asociado a los valores propios y los asigna a cada columna de la matriz de vectores propios para poder organizarlos\n",
    "len(Vp1)"
   ]
  },
  {
   "cell_type": "code",
   "execution_count": null,
   "metadata": {},
   "outputs": [],
   "source": [
    "L11=L1.imag\n",
    "L1.real,L11\n",
    "max(L11), L11\n"
   ]
  },
  {
   "cell_type": "code",
   "execution_count": null,
   "metadata": {},
   "outputs": [],
   "source": [
    "for cero in zip(*np.where(L11<1)):    #Guardo el indice del valor propio=0 (el ultimo)\n",
    "    cero\n",
    "cero=cero[0]\n",
    "print(cero)\n",
    "if L11[cero+1]<1:\n",
    "    cero=cero+1\n",
    "print(cero)"
   ]
  },
  {
   "cell_type": "code",
   "execution_count": null,
   "metadata": {},
   "outputs": [],
   "source": [
    "L2= L11[cero::]      #Tomar los valores positivos de los valores propios ordenados\n",
    "lenL2 = len(L2)\n",
    "lenL2,L2"
   ]
  },
  {
   "cell_type": "code",
   "execution_count": null,
   "metadata": {},
   "outputs": [],
   "source": [
    "lista = []\n",
    "for freq in zip(*np.where(L2<=(w[-1]))):   #Guardo el indice de los errores que estan por debajo del % de error aceptable\n",
    "    freq = freq[0]\n",
    "    lista.append(freq)\n",
    "    \n",
    "lenlista = len(lista)\n",
    "\n",
    "print(lista,lenlista)\n",
    "\n",
    "lista_aux = lista[:]\n",
    "\n",
    "for j in lista_aux:\n",
    "    if j >= 100:\n",
    "        lista.remove(j)                #Elimino los errores que cumplen el criterio a frecuencias altas porque antes incluye error muy alto\n",
    "        \n",
    "nlen=len(lista)       \n",
    "nindex=lista[nlen-1]\n",
    "nindex,nlen,lista"
   ]
  },
  {
   "cell_type": "code",
   "execution_count": null,
   "metadata": {},
   "outputs": [],
   "source": [
    "n3=n2[0:nlen]              #Asumiendo que cerca de k=100 hay un error mínimo, se buscan los modos que corresponden hasta 100\n",
    "L3= L2[0:nlen]             #Como los valores propios ordenados ya se habían ordenado y se habían tomado solo los positivos, tomamos los primeros 34 valores de k (positivos)\n",
    "Vp3=Vp1[:, cero:cero+nlen]      #Los vectores propios ordenados incluyen negativos y positivos entonces tomamos las columnas correspondientes a los valores propios tomados antes\n",
    "nlen,L3"
   ]
  },
  {
   "cell_type": "code",
   "execution_count": null,
   "metadata": {},
   "outputs": [],
   "source": [
    "Vp3_E=Vp3[::2]\n",
    "Vp3_H=Vp3[1::2]\n",
    "fila=len(Vp3_E[1,:])\n",
    "E=np.zeros((len(zE),fila),dtype=np.complex_)\n",
    "H=np.zeros((len(zH),fila),dtype=np.complex_)\n",
    "len(Vp3_E),len(E),len(zE)\n"
   ]
  },
  {
   "cell_type": "code",
   "execution_count": null,
   "metadata": {},
   "outputs": [],
   "source": [
    "for i in range(0,fila):\n",
    "    E[:,i]=Vp3_E[:,i]\n",
    "    H[:,i]=Vp3_H[:,i]"
   ]
  },
  {
   "cell_type": "code",
   "execution_count": null,
   "metadata": {},
   "outputs": [],
   "source": [
    "def test(i):\n",
    "    fig = plt.figure(figsize=(14, 20))\n",
    "    aE1 = fig.add_subplot(321)\n",
    "    aH1 = fig.add_subplot(322)\n",
    "    #aE2 = fig.add_subplot(323)\n",
    "    #aH2 = fig.add_subplot(324)\n",
    "    #aE3 = fig.add_subplot(325)\n",
    "    #aH3 = fig.add_subplot(326)\n",
    "\n",
    "# Plot\n",
    "\n",
    "    \n",
    "    aE1.plot(zE, E[:,i].real,color='blue', linewidth=1)\n",
    "    aH1.plot(zH, H[:,i].imag,color='red', linewidth=1)\n",
    "\n",
    "\n",
    "    #aE2.plot(zE, E[:,i].imag,color='blue', linewidth=1)\n",
    "    #aH2.plot(zH, H[:,i].real,color='red', linewidth=1)\n",
    "\n",
    "\n",
    "    #aE3.plot(zE, abs(E[:,i]),color='blue', linewidth=1)\n",
    "    #aH3.plot(zH, abs(H[:,i]),color='red', linewidth=1)\n",
    "    \n",
    "    plt.autoscale(enable=True, axis='y')\n",
    "    plt.autoscale(enable=True, axis='x')\n",
    "\n",
    "    #plt.suptitle('campos E y H')\n",
    "    plt.title('campos E y H')\n",
    "    \n",
    "    plt.xlabel('z')\n",
    "\n",
    "    return()\n",
    "\n"
   ]
  },
  {
   "cell_type": "code",
   "execution_count": null,
   "metadata": {},
   "outputs": [],
   "source": [
    "#pp1=((nn0/1.43)-nn0)/((nn0/1.43)+nn0)\n",
    "pp1=(1.43-1)/(1.43+1)\n",
    "\n",
    "#pp2=(nn0-(nn0/1.43))/(nn0+(nn0/1.43))\n",
    "pp2=(1-1.43)/(1+1.43)\n",
    "\n",
    "k1=(w)/c0\n",
    "l1=L_p\n",
    "Gamma1=(pp1+pp2*np.exp(-2*1j*k1*l1))/(1+pp1*pp2*np.exp(-2*1j*k1*l1))\n",
    "\n",
    "t1=1+pp1\n",
    "t2=1+pp2\n",
    "\n",
    "transmision=(t1*t2*np.exp(-1j*k1*l1))/(1+pp1*pp2*np.exp(-2*1j*k1*l1))\n",
    "t1,t2,pp1,pp2,Gamma1,transmision\n",
    "#np.exp(1j)\n",
    "#l1,k1\n",
    "Gamma1*np.conj(Gamma1)+transmision*np.conj(transmision)\n",
    "Gamma1,len(Gamma1),k1*l1,k1\n",
    "#pp1,pp2\n",
    "transmision\n",
    "(abs(Gamma1))**2\n",
    "Gammatoolbox=[-0-0*1j,-0.2191 + 0.1649*1j,-0.3286 - 0.0692*1j,-0.0727 - 0.1402*1j,-0.0705 + 0.1386*1j,-0.3281 + 0.0704*1j,-0.2180 - 0.1652*1j,-0.0001 + 0.0054*1j,-0.2286 + 0.1618*1j,-0.3216 - 0.0832*1j,-0.0532 - 0.1242*1j,-0.1000 + 0.1559*1j, -0.3403 + 0.0315*1j,-0.1640 - 0.1714*1j,  -0.0171 + 0.0746*1j]\n",
    "(Gammatoolbox+Gamma1),abs((Gammatoolbox+Gamma1)/Gammatoolbox)*100\n",
    "Gamma1"
   ]
  },
  {
   "cell_type": "code",
   "execution_count": null,
   "metadata": {},
   "outputs": [],
   "source": [
    "L3/(np.pi*2)"
   ]
  },
  {
   "cell_type": "code",
   "execution_count": null,
   "metadata": {},
   "outputs": [],
   "source": [
    "L3/(2*np.pi)\n"
   ]
  },
  {
   "cell_type": "code",
   "execution_count": null,
   "metadata": {},
   "outputs": [],
   "source": [
    "interact(test,i=(0,fila-1))"
   ]
  },
  {
   "cell_type": "code",
   "execution_count": null,
   "metadata": {},
   "outputs": [],
   "source": []
  },
  {
   "cell_type": "code",
   "execution_count": null,
   "metadata": {},
   "outputs": [],
   "source": [
    "\n"
   ]
  }
 ],
 "metadata": {
  "kernelspec": {
   "display_name": "Python 3",
   "language": "python",
   "name": "python3"
  },
  "language_info": {
   "codemirror_mode": {
    "name": "ipython",
    "version": 3
   },
   "file_extension": ".py",
   "mimetype": "text/x-python",
   "name": "python",
   "nbconvert_exporter": "python",
   "pygments_lexer": "ipython3",
   "version": "3.8.5"
  }
 },
 "nbformat": 4,
 "nbformat_minor": 4
}
