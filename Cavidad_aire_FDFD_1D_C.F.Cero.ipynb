{
 "cells": [
  {
   "cell_type": "code",
   "execution_count": 1,
   "metadata": {},
   "outputs": [],
   "source": [
    "# Librerias\n",
    "\n",
    "import numpy as np  \n",
    "import matplotlib as mpl \n",
    "import matplotlib.pyplot as plt  \n",
    "import math\n",
    "from ipywidgets import interact"
   ]
  },
  {
   "cell_type": "code",
   "execution_count": 2,
   "metadata": {},
   "outputs": [],
   "source": [
    "# Parámetros\n",
    "\n",
    "PPW = 10  # Points Per Wavelenght"
   ]
  },
  {
   "cell_type": "code",
   "execution_count": 3,
   "metadata": {},
   "outputs": [],
   "source": [
    "# Características\n",
    "\n",
    "a = 0\n",
    "b = 1                    # (Cavidad de 1 metro)\n",
    "L = b-a                  # Tamaño cavidad\n",
    "\n",
    "fmax = 3e9               #Frecuencia de análisis\n",
    "\n",
    "e0 = 8.8541878176e-12    #Permitividad del vacio F/m \n",
    "m0 = (4e-7)*np.pi        #Permeabilidad del vacío (T*m)/A\n",
    "\n",
    "\n",
    "mr = 1                   #Permeabilidad relativa en el vacío\n",
    "er = 1                   #Permitividad relativa en el vacío\n",
    "\n",
    "\n",
    "#-----Permeabilidad en el vacío----------------------------------\n",
    "\n",
    "mu = mr * m0           \n",
    "\n",
    "#-----Permitividad en el vacío-----------------------------------\n",
    "\n",
    "eps = er * e0\n",
    "\n",
    "#------Impedancia característica en el vacío---------------------\n",
    "\n",
    "n0 = math.sqrt(m0/e0)         \n"
   ]
  },
  {
   "cell_type": "code",
   "execution_count": 4,
   "metadata": {},
   "outputs": [],
   "source": [
    "#Velocidad de la onda electromagnética, lambda y dz (divisiones espaciales) asociado\n",
    "\n",
    "#-----------Vacío--------------\n",
    "\n",
    "c0=(1/np.sqrt(e0*m0))\n",
    "lam_min=c0/fmax\n",
    "dz=lam_min/PPW\n",
    "\n"
   ]
  },
  {
   "cell_type": "code",
   "execution_count": 5,
   "metadata": {},
   "outputs": [],
   "source": [
    "#Intervalos asociados a su dz particular en el vacío\n",
    "\n",
    "I=np.ceil(L/dz)+1\n",
    "I= I.astype(int)\n",
    "                       \n",
    "#-----------------------------------\n",
    "Itotal=I+1                     # Total de posiciones\n",
    "It=2*(Itotal-1)                #Total de intervalos que incluye E y H\n",
    "I2=2*I+1                       #Tamaño de la matriz para que incluya E y H\n",
    "\n",
    "#-------------Posiciones------------\n",
    "\n",
    "#Campo Eléctrico\n",
    "\n",
    "#Tamaño-->I+1\n",
    "\n",
    "zE=np.linspace(a,b,Itotal)\n",
    "dz_E=zE[1]-zE[0]\n",
    " \n",
    "\n",
    "#Campo Magnético\n",
    "\n",
    "#Tamaño-->I\n",
    "\n",
    "zH=0.5*(zE[0:-1]+zE[1::])\n",
    "dz_H=zH[1]-zH[0]\n",
    "\n"
   ]
  },
  {
   "cell_type": "code",
   "execution_count": 6,
   "metadata": {},
   "outputs": [],
   "source": [
    "#Inicialización de matriz\n",
    "\n",
    "B=np.zeros((I2,I2), dtype=np.complex_)  #Matriz de rotacionales"
   ]
  },
  {
   "cell_type": "code",
   "execution_count": 7,
   "metadata": {},
   "outputs": [],
   "source": [
    "def matrizB():\n",
    "\n",
    "    #MATRIZ PARA CAVIDAD CON SOLO AIRE\n",
    "    \n",
    "    for j in range(0,I2):                                  #j para filas y columnas de la matriz\n",
    "        \n",
    "        if j%2==0:                                         #Filas pares para hallar campo eléctrico\n",
    "            \n",
    "            if j!=It and j!=0:                             #debe ser and porque con or en la fila cero como igual es distinta de It se cumpliría\n",
    "                \n",
    "                B[j][j-1] = (1/dz_E)*n0*c0                 #En j=It y j=0 debe mantenerse en cero, por la condición de frontera\n",
    "                B[j][j+1] = (-1/dz_E)*n0*c0\n",
    "                \n",
    "        \n",
    "        elif j%2!=0:                                       #Filas impares para hallar campo magnético\n",
    "            \n",
    "            if j==1:\n",
    "                B[j][j-1] = 0                              #Por la condición de frontera esa posición es cero \n",
    "                B[j][j+1] = (-1/dz_H)*(1/n0)*c0\n",
    "                \n",
    "            elif j==It-1:\n",
    "                B[j][j-1] = (1/dz_H)*(1/n0)*c0\n",
    "                B[j][j+1] = 0                              #Por la condición de frontera esa posición es cero \n",
    "                \n",
    "            else:\n",
    "\n",
    "                B[j][j-1] = (1/dz_H)*(1/n0)*c0\n",
    "                B[j][j+1] = (-1/dz_H)*(1/n0)*c0\n",
    "            \n",
    "        \n",
    "            \n",
    "    return(B)"
   ]
  },
  {
   "cell_type": "markdown",
   "metadata": {},
   "source": [
    "### Valores y vectores propios\n"
   ]
  },
  {
   "cell_type": "code",
   "execution_count": 8,
   "metadata": {},
   "outputs": [],
   "source": [
    "Lp,Vp=np.linalg.eig(matrizB())    #Lp--> valores propios, V--> vectores propios"
   ]
  },
  {
   "cell_type": "markdown",
   "metadata": {},
   "source": [
    "### Índices de los valores propios\n",
    "\n",
    "Se organiza la parte imaginaria de los valores propios de menor a mayor y se obtienen sus índices para poder asociarlos a los vectores propios."
   ]
  },
  {
   "cell_type": "code",
   "execution_count": 9,
   "metadata": {},
   "outputs": [],
   "source": [
    "idx = np.argsort(Lp.imag)   #Toma los valores propios y los organiza de menor a mayor y se le asigna un índice a cada uno\n",
    "L1 = Lp[idx]                #Se organizan los valores propios usando el índice que se tomó en el paso anterior\n",
    "Vp1 = Vp[:,idx]             #Toma el índice asociado a los valores propios y los asigna a cada columna de la matriz de vectores propios para poder organizarlos\n"
   ]
  },
  {
   "cell_type": "code",
   "execution_count": 10,
   "metadata": {},
   "outputs": [],
   "source": [
    "L11=L1.imag                 #Toma la parte imaginaria de los valores propios ya organizados\n"
   ]
  },
  {
   "cell_type": "code",
   "execution_count": 11,
   "metadata": {},
   "outputs": [
    {
     "name": "stdout",
     "output_type": "stream",
     "text": [
      "103\n"
     ]
    }
   ],
   "source": [
    "for cero in zip(*np.where(L11<1)):    #Guardo el indice del último valor propio con un valor menor a 1 (frecuencia 0)\n",
    "    cero\n",
    "cero=cero[0]\n",
    "print(cero)\n",
    "if L11[cero+1]<1:\n",
    "    cero=cero+1\n"
   ]
  },
  {
   "cell_type": "code",
   "execution_count": 12,
   "metadata": {},
   "outputs": [],
   "source": [
    "L2= L11[cero::]      #Teniendo en cuenta el índice calculado en el paso anterior, se acota el vector de valores propios a partir de ese valor\n",
    "lenL2 = len(L2)\n"
   ]
  },
  {
   "cell_type": "code",
   "execution_count": 13,
   "metadata": {},
   "outputs": [],
   "source": [
    "#Modo de vibración real \n",
    "n2=np.pi*c0*np.linspace(0,lenL2-1,lenL2) \n"
   ]
  },
  {
   "cell_type": "code",
   "execution_count": 14,
   "metadata": {},
   "outputs": [
    {
     "data": {
      "text/plain": [
       "Text(0, 0.5, 'w numérico (valores propios)')"
      ]
     },
     "execution_count": 14,
     "metadata": {},
     "output_type": "execute_result"
    },
    {
     "data": {
      "image/png": "[encoded data removed]",
      "text/plain": [
       "<Figure size 576x576 with 1 Axes>"
      ]
     },
     "metadata": {
      "needs_background": "light"
     },
     "output_type": "display_data"
    }
   ],
   "source": [
    "fig, axes = plt.subplots(nrows=1, ncols=1, figsize=(8,8))\n",
    "\n",
    "plt.plot(n2,n2,'b')\n",
    "plt.plot(n2,L2,'r')\n",
    "axes.set_title(\"Modos de vibración real vs numérico\")\n",
    "plt.xlabel(\"w físico\")\n",
    "plt.ylabel(\"w numérico (valores propios)\")"
   ]
  },
  {
   "cell_type": "code",
   "execution_count": 24,
   "metadata": {},
   "outputs": [
    {
     "name": "stderr",
     "output_type": "stream",
     "text": [
      "<ipython-input-24-78962cd075c2>:5: RuntimeWarning: divide by zero encountered in true_divide\n",
      "  err_k_p=(err_k/n2)*100\n"
     ]
    }
   ],
   "source": [
    "err_k=abs(n2-L2)\n",
    "\n",
    "for e in range(0,len(L2)):\n",
    "    if n2[e]!=0:\n",
    "        err_k_p=(err_k/n2)*100\n",
    "    else:\n",
    "        err_k_p=0\n",
    "        "
   ]
  },
  {
   "cell_type": "code",
   "execution_count": 25,
   "metadata": {},
   "outputs": [
    {
     "name": "stdout",
     "output_type": "stream",
     "text": [
      "Ingrese el error aceptable para el método: 1\n",
      "[1, 2, 3, 4, 5, 6, 7, 8, 9, 10, 11, 12, 13, 14, 15] 15\n"
     ]
    }
   ],
   "source": [
    "lista = []\n",
    "errorAceptable = input('Ingrese el error aceptable para el método: ')\n",
    "errorAceptable = float(errorAceptable)\n",
    "for error in zip(*np.where(err_k_p<=errorAceptable)):   #Guardo el indice de los errores que estan por debajo del % de error aceptable\n",
    "    error = error[0]\n",
    "    lista.append(error)\n",
    "    \n",
    "lenlista = len(lista)\n",
    "\n",
    "print(lista,lenlista)\n",
    "\n",
    "lista_aux = lista[:]\n",
    "\n",
    "for j in lista_aux:\n",
    "    if j >= 100:\n",
    "        lista.remove(j)                #Elimino los errores que cumplen el criterio a frecuencias altas porque antes incluye error muy alto\n",
    "        \n",
    "nlen=len(lista)       \n",
    "nindex=lista[nlen-1]\n"
   ]
  },
  {
   "cell_type": "code",
   "execution_count": 26,
   "metadata": {},
   "outputs": [],
   "source": [
    "n3=n2[0:nlen]              \n",
    "L3= L2[0:nlen]                  #Como los valores propios ya se habían ordenado y se habían tomado solo los positivos, se toman los valores que incluyan las frecuencias aceptadas de acuerdo al error\n",
    "Vp3=Vp1[:, cero:cero+nlen]      #Los vectores propios ordenados incluyen negativos y positivos entonces tomamos las columnas correspondientes a los valores propios tomados antes y se acotan con el error\n"
   ]
  },
  {
   "cell_type": "code",
   "execution_count": 27,
   "metadata": {},
   "outputs": [
    {
     "data": {
      "text/plain": [
       "Text(0, 0.5, 'w numérico (valores propios)')"
      ]
     },
     "execution_count": 27,
     "metadata": {},
     "output_type": "execute_result"
    },
    {
     "data": {
      "image/png": "[encoded data removed]",
      "text/plain": [
       "<Figure size 576x576 with 1 Axes>"
      ]
     },
     "metadata": {
      "needs_background": "light"
     },
     "output_type": "display_data"
    }
   ],
   "source": [
    "fig, axes = plt.subplots(nrows=1, ncols=1, figsize=(8,8))\n",
    "\n",
    "plt.plot(n3,n3,'b')\n",
    "plt.plot(n3,L3,'r')\n",
    "axes.set_title(\"Modos de vibración real vs numérico teniendo en cuenta el error\")\n",
    "plt.xlabel(\"w físico\")\n",
    "plt.ylabel(\"w numérico (valores propios)\")"
   ]
  },
  {
   "cell_type": "markdown",
   "metadata": {},
   "source": [
    "### Determinar frecuencias asociadas a los valores propios"
   ]
  },
  {
   "cell_type": "code",
   "execution_count": 28,
   "metadata": {},
   "outputs": [
    {
     "data": {
      "text/plain": [
       "array([4.24579671e-07, 1.49890304e+08, 2.99745061e+08, 4.49528733e+08,\n",
       "       5.99205796e+08, 7.48740756e+08, 8.98098148e+08, 1.04724255e+09,\n",
       "       1.19613860e+09, 1.34475098e+09, 1.49304444e+09, 1.64098382e+09,\n",
       "       1.78853404e+09, 1.93566010e+09, 2.08232711e+09])"
      ]
     },
     "execution_count": 28,
     "metadata": {},
     "output_type": "execute_result"
    }
   ],
   "source": [
    "fnum = np.zeros(nlen)\n",
    "for j in range(0,nlen):\n",
    "    \n",
    "    fnum[j] = (L3[j])/(2*np.pi)\n",
    "    \n",
    "fnum"
   ]
  },
  {
   "cell_type": "code",
   "execution_count": 29,
   "metadata": {},
   "outputs": [
    {
     "data": {
      "text/plain": [
       "(103, 103, 103, 102, 102)"
      ]
     },
     "execution_count": 29,
     "metadata": {},
     "output_type": "execute_result"
    }
   ],
   "source": [
    "Vp3_E=Vp3[::2]                                   #Se toman los valores pares de las filas en la matriz, correspondientes a los campos eléctricos\n",
    "Vp3_H=Vp3[1::2]                                  #Se toman los valores impares de las filas en la matriz, correspondientes a los campos magnéticos\n",
    "fila=len(Vp3_E[1,:])                             #El tamaño de una columna de la matriz de campos \n",
    "E=np.zeros((len(zE),fila),dtype=np.complex_)\n",
    "H=np.zeros((len(zH),fila),dtype=np.complex_)\n",
    "len(Vp3_E),len(E),len(zE),len(zH),len(H)"
   ]
  },
  {
   "cell_type": "code",
   "execution_count": 30,
   "metadata": {},
   "outputs": [],
   "source": [
    "for i in range(0,fila):\n",
    "    E[:,i]=Vp3_E[:,i]\n",
    "    H[:,i]=Vp3_H[:,i]"
   ]
  },
  {
   "cell_type": "code",
   "execution_count": 31,
   "metadata": {},
   "outputs": [],
   "source": [
    "def cav_vacio(frecuencia):\n",
    "    fig = plt.figure(figsize=(14, 20))\n",
    "    aE1 = fig.add_subplot(321)\n",
    "    aH1 = fig.add_subplot(322)\n",
    "    aE2 = fig.add_subplot(323)\n",
    "    aH2 = fig.add_subplot(324)\n",
    "    aE3 = fig.add_subplot(325)\n",
    "    aH3 = fig.add_subplot(326)\n",
    "\n",
    "# Plot\n",
    "\n",
    "    \n",
    "    aE1.plot(zE, E[:,frecuencia].real,color='blue', linewidth=1)\n",
    "    aH1.plot(zH, H[:,frecuencia].imag,color='red', linewidth=1)\n",
    "\n",
    "\n",
    "    aE2.plot(zE, E[:,frecuencia].imag,color='blue', linewidth=1)\n",
    "    aH2.plot(zH, H[:,frecuencia].real,color='red', linewidth=1)\n",
    "\n",
    "\n",
    "    aE3.plot(zE, abs(E[:,frecuencia]),color='blue', linewidth=1)\n",
    "    aH3.plot(zH, abs(H[:,frecuencia]),color='red', linewidth=1)\n",
    "    \n",
    "    plt.autoscale(enable=True, axis='y')\n",
    "    plt.autoscale(enable=True, axis='x')\n",
    "\n",
    "    plt.suptitle('campos E y H')\n",
    "    plt.xlabel('z')\n",
    "\n",
    "    return()\n"
   ]
  },
  {
   "cell_type": "code",
   "execution_count": 33,
   "metadata": {},
   "outputs": [
    {
     "data": {
      "application/vnd.jupyter.widget-view+json": {
       "model_id": "aaf3ede4f94746d89c61efee9735c5ad",
       "version_major": 2,
       "version_minor": 0
      },
      "text/plain": [
       "interactive(children=(IntSlider(value=7, description='frecuencia', max=14), Output()), _dom_classes=('widget-i…"
      ]
     },
     "metadata": {},
     "output_type": "display_data"
    },
    {
     "data": {
      "text/plain": [
       "<function __main__.cav_vacio(frecuencia)>"
      ]
     },
     "execution_count": 33,
     "metadata": {},
     "output_type": "execute_result"
    }
   ],
   "source": [
    "interact(cav_vacio,frecuencia=(0,fila-1))"
   ]
  },
  {
   "cell_type": "code",
   "execution_count": null,
   "metadata": {},
   "outputs": [],
   "source": []
  }
 ],
 "metadata": {
  "kernelspec": {
   "display_name": "Python 3",
   "language": "python",
   "name": "python3"
  },
  "language_info": {
   "codemirror_mode": {
    "name": "ipython",
    "version": 3
   },
   "file_extension": ".py",
   "mimetype": "text/x-python",
   "name": "python",
   "nbconvert_exporter": "python",
   "pygments_lexer": "ipython3",
   "version": "3.8.5"
  }
 },
 "nbformat": 4,
 "nbformat_minor": 4
}
