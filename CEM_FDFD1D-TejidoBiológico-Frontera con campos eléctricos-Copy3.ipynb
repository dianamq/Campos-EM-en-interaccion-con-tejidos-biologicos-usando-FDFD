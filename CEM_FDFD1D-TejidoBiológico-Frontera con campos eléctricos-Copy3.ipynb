{
 "cells": [
  {
   "attachments": {
    "aproxcentral.PNG": {
     "image/png": "[encoded data removed]"
    }
   },
   "cell_type": "markdown",
   "metadata": {},
   "source": [
    "# Diferencias Finitas en el Dominio de la Frecuencia\n",
    "## Caso unidimensional\n",
    "\n",
    "Se emplea una discretización por diferencias finitas tanto espacial como temporal, usando aproximación central.\n",
    "$$ \\frac{df(z_i)}{dz} = \\frac {f_{i+\\frac{1}{2}} - f_{i-\\frac{1}{2}}} {\\Delta z} $$\n",
    "\n",
    "![aproxcentral.PNG](attachment:aproxcentral.PNG)\n",
    "\n",
    "\n",
    "Se asume propagación de la onda electromagnética a lo largo del eje $z$, y se considera polarización de la intensidad de campo eléctrico en $y$ y el de intensidad de campo magnético en $x$. Las ecuaciones rotacionales de Maxwell quedan la sigueinte forma:\n",
    "$$ j\\omega \\mu H_x = \\frac{\\partial E_y}{\\partial z} $$\n",
    "$$ j\\omega \\epsilon E_y = \\frac{\\partial H_x}{\\partial z} - \\sigma E_y $$\n",
    "donde $\\mu$, $\\epsilon$ y $\\sigma$ son las propiedades constitutivas del medio.\n",
    "\n",
    "Se obtiene las siguientes expresiones de las Ecuaciones de Maxwell dicretizadas por Diferencias Finitas en el Dominio de la frecuencia:\n",
    "\n",
    "$$ j\\omega \\mu H^{x}_{i+\\frac{1}{2}} + \\frac{E_{i} - E_{i+1}}{\\Delta z} = 0 $$\n",
    "$$ (j \\omega \\epsilon_i + \\sigma)E^{y}_i + (H^{x}_{i-\\frac{1}{2}}-H^{x}_{i+\\frac{1}{2}})\\frac{1}{\\Delta z} = 0  $$\n",
    "\n"
   ]
  },
  {
   "cell_type": "code",
   "execution_count": 1,
   "metadata": {},
   "outputs": [],
   "source": [
    "import numpy as np  \n",
    "import matplotlib as mpl \n",
    "import matplotlib.pyplot as plt  \n",
    "import math\n",
    "from cmath import sqrt\n",
    "%matplotlib inline\n",
    "from matplotlib import pyplot as plt\n",
    "from ipywidgets import interact"
   ]
  },
  {
   "cell_type": "code",
   "execution_count": null,
   "metadata": {},
   "outputs": [],
   "source": [
    "%run Cavidad_aire_FDFD_1D_C.F.Cero.ipynb"
   ]
  },
  {
   "cell_type": "code",
   "execution_count": null,
   "metadata": {},
   "outputs": [],
   "source": [
    "wnum=2*np.pi*fnum\n",
    "wnum,len(w),6.776e+09*2*np.pi,fnum"
   ]
  },
  {
   "cell_type": "code",
   "execution_count": 2,
   "metadata": {},
   "outputs": [],
   "source": [
    "# Parámetros\n",
    "PPW = 50  # Points Per Wavelenght\n"
   ]
  },
  {
   "cell_type": "code",
   "execution_count": 4,
   "metadata": {},
   "outputs": [],
   "source": [
    "a = 0\n",
    "b = 22 / 100           #Se define una cavidad de 22 cm, para darle espacio a la sección de vacío y la división de tejidos aproximadamente de 12 cm\n",
    "\n",
    "L = b-a\n",
    "fmax = 3e9 \n",
    "w=3e9\n",
    "e0 = 8.8541878176e-12   #Permitividad del vacio F/m\n",
    "m0 = (4e-7)*np.pi       #Permeabilidad del vacío (T*m)/A\n",
    "\n",
    "\n",
    "mr = 1                  #Permeabilidad relativa en el vacío\n",
    "er = 1                  #Permitividad relativa en el vacío\n",
    "\n",
    "\n",
    "#Permitividades relativas a 3GHz------------------------------\n",
    "\n",
    "#erp= 37       #Piel\n",
    "#era= 11       #Tejido adiposo \n",
    "#erg= 34       #Tejido glandular sano\n",
    "#ergc= 46      #Tejido glandular con cáncer\n",
    "#erm= 54       #Tejido muscular\n",
    "\n",
    "#--------------------------------------------------------------\n",
    "\n",
    "#Conductividades a 3GHz----------------------------------------\n",
    "\n",
    "sg = 0              #Vacío\n",
    "sgp= 0.0002         #Piel \n",
    "sga= 0.036          #Tejido adiposo\n",
    "sggs= 0.713         #Tejido glandular \n",
    "sggc = 0.899        #Tumor\n",
    "sgm= 0.2            #Músculo\n",
    "#---------------------------------------------------------------\n",
    "\n",
    "\n",
    "mu = mr * m0            #Permeabilidad del tejido\n",
    "\n",
    "\n",
    "\n",
    "#----------------------------------------------------------------\n",
    "#-------------------------------------\n",
    "\n",
    "\n"
   ]
  },
  {
   "cell_type": "code",
   "execution_count": 5,
   "metadata": {},
   "outputs": [],
   "source": [
    "#Permitividades, ecuación de debye\n",
    "\n",
    "#PIEL\n",
    "erp = 4+(32/(1+1j*w*7.23e-12)) #+sgp/(1j*w*e0)\n",
    "era = 3.140+(1.708/(1+1j*w*(14.65e-12)**(1-0.061))) #+sga/(1j*w*e0)\n",
    "erg = 7.821 +(41.48/(1+1j*w*(10.66e-12)**(1-0.047))) #+sggs/(1j*w*e0)\n",
    "ergc = 9.058+(51.31/(1+1j*w*(10.84e-12)**(1-0.022))) #+sggc/(1j*w*e0)\n",
    "erm = 4+(50/(1+1j*w*(7.23e-12)**(1-0.10))) #+sgm/(1j*w*e0)\n",
    "\n",
    "#Permitividades del tejido--------------------------------------\n",
    "\n",
    "eps = er * e0           #Vacío\n",
    "epsp = erp *e0          #Piel\n",
    "epsa = era *e0          #Tejido adiposo\n",
    "epsg = erg *e0          #Tejido glandular\n",
    "epsgc = ergc *e0        #Tumor\n",
    "epsm = erm *e0          #Tejido muscular\n",
    "\n"
   ]
  },
  {
   "cell_type": "code",
   "execution_count": 6,
   "metadata": {},
   "outputs": [
    {
     "ename": "TypeError",
     "evalue": "object of type 'complex' has no len()",
     "output_type": "error",
     "traceback": [
      "\u001b[1;31m---------------------------------------------------------------------------\u001b[0m",
      "\u001b[1;31mTypeError\u001b[0m                                 Traceback (most recent call last)",
      "\u001b[1;32m<ipython-input-6-65f65831fa21>\u001b[0m in \u001b[0;36m<module>\u001b[1;34m\u001b[0m\n\u001b[1;32m----> 1\u001b[1;33m \u001b[1;32mif\u001b[0m \u001b[0mlen\u001b[0m\u001b[1;33m(\u001b[0m\u001b[0merp\u001b[0m\u001b[1;33m)\u001b[0m\u001b[1;33m==\u001b[0m\u001b[0mlen\u001b[0m\u001b[1;33m(\u001b[0m\u001b[0mera\u001b[0m\u001b[1;33m)\u001b[0m \u001b[1;32mand\u001b[0m \u001b[0mlen\u001b[0m\u001b[1;33m(\u001b[0m\u001b[0mera\u001b[0m\u001b[1;33m)\u001b[0m\u001b[1;33m==\u001b[0m\u001b[0mlen\u001b[0m\u001b[1;33m(\u001b[0m\u001b[0merg\u001b[0m\u001b[1;33m)\u001b[0m \u001b[1;32mand\u001b[0m \u001b[0mlen\u001b[0m\u001b[1;33m(\u001b[0m\u001b[0merg\u001b[0m\u001b[1;33m)\u001b[0m\u001b[1;33m==\u001b[0m\u001b[0mlen\u001b[0m\u001b[1;33m(\u001b[0m\u001b[0mergc\u001b[0m\u001b[1;33m)\u001b[0m \u001b[1;32mand\u001b[0m \u001b[0mlen\u001b[0m\u001b[1;33m(\u001b[0m\u001b[0mergc\u001b[0m\u001b[1;33m)\u001b[0m\u001b[1;33m==\u001b[0m\u001b[0mlen\u001b[0m\u001b[1;33m(\u001b[0m\u001b[0merm\u001b[0m\u001b[1;33m)\u001b[0m\u001b[1;33m:\u001b[0m\u001b[1;33m\u001b[0m\u001b[1;33m\u001b[0m\u001b[0m\n\u001b[0m\u001b[0;32m      2\u001b[0m     \u001b[0mdz_input\u001b[0m\u001b[1;33m=\u001b[0m\u001b[0mint\u001b[0m\u001b[1;33m(\u001b[0m\u001b[0minput\u001b[0m\u001b[1;33m(\u001b[0m\u001b[1;34m\"Ingrese un numero entre 0 y \"\u001b[0m \u001b[1;33m+\u001b[0m \u001b[0mstr\u001b[0m\u001b[1;33m(\u001b[0m\u001b[0mlen\u001b[0m\u001b[1;33m(\u001b[0m\u001b[0merp\u001b[0m\u001b[1;33m)\u001b[0m\u001b[1;33m-\u001b[0m\u001b[1;36m1\u001b[0m\u001b[1;33m)\u001b[0m  \u001b[1;33m+\u001b[0m \u001b[1;34m\" para trabajar con esa frecuencia: \"\u001b[0m\u001b[1;33m)\u001b[0m\u001b[1;33m)\u001b[0m\u001b[1;33m\u001b[0m\u001b[1;33m\u001b[0m\u001b[0m\n\u001b[0;32m      3\u001b[0m     \u001b[0mera\u001b[0m\u001b[1;33m=\u001b[0m\u001b[0mera\u001b[0m\u001b[1;33m[\u001b[0m\u001b[0mdz_input\u001b[0m\u001b[1;33m]\u001b[0m\u001b[1;33m\u001b[0m\u001b[1;33m\u001b[0m\u001b[0m\n\u001b[0;32m      4\u001b[0m     \u001b[0merg\u001b[0m\u001b[1;33m=\u001b[0m\u001b[0merg\u001b[0m\u001b[1;33m[\u001b[0m\u001b[0mdz_input\u001b[0m\u001b[1;33m]\u001b[0m\u001b[1;33m\u001b[0m\u001b[1;33m\u001b[0m\u001b[0m\n\u001b[0;32m      5\u001b[0m     \u001b[0mergc\u001b[0m\u001b[1;33m=\u001b[0m\u001b[0mergc\u001b[0m\u001b[1;33m[\u001b[0m\u001b[0mdz_input\u001b[0m\u001b[1;33m]\u001b[0m\u001b[1;33m\u001b[0m\u001b[1;33m\u001b[0m\u001b[0m\n",
      "\u001b[1;31mTypeError\u001b[0m: object of type 'complex' has no len()"
     ]
    }
   ],
   "source": [
    "if len(erp)==len(era) and len(era)==len(erg) and len(erg)==len(ergc) and len(ergc)==len(erm):\n",
    "    dz_input=int(input(\"Ingrese un numero entre 0 y \" + str(len(erp)-1)  + \" para trabajar con esa frecuencia: \"))\n",
    "    era=era[dz_input]\n",
    "    erg=erg[dz_input]\n",
    "    ergc=ergc[dz_input]\n",
    "    erm=erm[dz_input]\n",
    "    erp=erp[dz_input]"
   ]
  },
  {
   "cell_type": "code",
   "execution_count": null,
   "metadata": {},
   "outputs": [],
   "source": [
    "frecuencia=w[dz_input]/(2*np.pi)\n",
    "frecuencia,erp"
   ]
  },
  {
   "cell_type": "code",
   "execution_count": 7,
   "metadata": {},
   "outputs": [
    {
     "data": {
      "text/plain": [
       "((62.792761150304855+0.6052343441139395j), 62.79567788861372)"
      ]
     },
     "execution_count": 7,
     "metadata": {},
     "output_type": "execute_result"
    }
   ],
   "source": [
    "n0 = sqrt(m0/e0)\n",
    "npp = sqrt(mr/erp)*n0\n",
    "na = sqrt(mr/era)*n0\n",
    "ng = sqrt(mr/erg)*n0\n",
    "nt = sqrt(mr/ergc)*n0\n",
    "nm = sqrt(mr/erm)*n0\n",
    "npp,abs(npp)"
   ]
  },
  {
   "cell_type": "code",
   "execution_count": 8,
   "metadata": {},
   "outputs": [
    {
     "data": {
      "text/plain": [
       "(0.10407, 0.11907, 0.17807, 0.215, 0.22, 0.10257)"
      ]
     },
     "execution_count": 8,
     "metadata": {},
     "output_type": "execute_result"
    }
   ],
   "source": [
    "#Cavidad resonante de tamaño L\n",
    "#División de tamaños de los tipos de tejido en cm\n",
    "\n",
    "L1=1.5 / 1000                #Piel \n",
    "L2=1.5   / 100               #Tejido adiposo \n",
    "L3=5.9 / 100              #Tejido glandular\n",
    "L4=3.693 / 100             #Tumor\n",
    "L5=0.5 / 100               #Tejido muscular\n",
    "L0=L-(L1+L2+L3+L4+L5)                #Vacío\n",
    "\n",
    "#Posiciones donde termina cada tipo de tejido\n",
    "\n",
    "P0=L0\n",
    "P1=L0+L1              #Posición Piel\n",
    "P2=P1+L2              #Posición tejido adiposo\n",
    "P3=P2+L3              #Posición tejido glandular\n",
    "P4=P3+L4              #Posición tumor\n",
    "P5=P4+L5              #Posición tejido muscular\n",
    "P1,P2,P3,P4,P5,L0"
   ]
  },
  {
   "cell_type": "code",
   "execution_count": 60,
   "metadata": {},
   "outputs": [
    {
     "data": {
      "text/plain": [
       "299792458.0003452"
      ]
     },
     "execution_count": 60,
     "metadata": {},
     "output_type": "execute_result"
    }
   ],
   "source": [
    "#Velocidad de la onda electromagnética, lambda y dz asociado a cada tipo de tejido\n",
    "\n",
    "#Vacío\n",
    "\n",
    "c0 = 1/(np.sqrt(e0*m0))\n",
    "lam_min = c0/fmax\n",
    "dz_v = lam_min/PPW\n",
    "\n",
    "#Piel\n",
    "c_p=abs(c0/np.sqrt(erp*mr))\n",
    "lam_min_p=c_p/fmax\n",
    "dz_p=lam_min_p/PPW\n",
    "\n",
    "#Tejido adiposo\n",
    "\n",
    "c_a=abs(c0/np.sqrt(era*mr))\n",
    "lam_min_a=c_a/fmax\n",
    "dz_a=lam_min_a/PPW\n",
    "\n",
    "#Tejido glandular\n",
    "\n",
    "c_g=abs(c0/np.sqrt(erg*mr))\n",
    "lam_min_g=c_g/fmax\n",
    "dz_g=lam_min_g/PPW\n",
    "\n",
    "#Tumor\n",
    "\n",
    "c_t=abs(c0/np.sqrt(ergc*mr))\n",
    "lam_min_t=c_t/fmax\n",
    "dz_t=lam_min_t/PPW\n",
    "\n",
    "#Tejido muscular\n",
    "\n",
    "c_m=abs(c0/np.sqrt(erm*mr))\n",
    "lam_min_m=c_m/fmax\n",
    "dz_m=lam_min_m/PPW\n",
    "\n",
    "lam_min,lam_min_p,lam_min_a,lam_min_g,lam_min_t,lam_min_m\n",
    "\n",
    "c0  "
   ]
  },
  {
   "cell_type": "code",
   "execution_count": 10,
   "metadata": {},
   "outputs": [
    {
     "data": {
      "text/plain": [
       "0.00033314141802597686"
      ]
     },
     "execution_count": 10,
     "metadata": {},
     "output_type": "execute_result"
    }
   ],
   "source": [
    "dz_p"
   ]
  },
  {
   "cell_type": "code",
   "execution_count": 11,
   "metadata": {},
   "outputs": [],
   "source": [
    "#Intervalos asociados a su dz particular en cada tipo de tejido\n",
    "\n",
    "#Vacío------------------------------\n",
    "I_v=np.ceil(L0/(dz_v))+1\n",
    "I_v = I_v.astype(int)\n",
    "I_v_2 = 2*(I_v-1)                         #Hago esto en cada tejido para los ciclos for de cada matriz\n",
    "#-----------------------------------\n",
    "\n",
    "#Piel-------------------------------\n",
    "I_piel=np.ceil(L1/dz_p)+1\n",
    "I_piel=I_piel.astype(int)\n",
    "I_piel_2=2*(I_piel-1)\n",
    "#-----------------------------------\n",
    "\n",
    "#Tejido adiposo---------------------\n",
    "I_adiposo=np.ceil(L2/dz_a)+1\n",
    "I_adiposo=I_adiposo.astype(int)\n",
    "I_adiposo_2=2*(I_adiposo-1)\n",
    "#-----------------------------------\n",
    "\n",
    "#Tejido glandular-------------------\n",
    "I_glandular=np.ceil(L3/dz_g)+1\n",
    "I_glandular=I_glandular.astype(int)\n",
    "I_glandular_2=2*(I_glandular-1)\n",
    "#-----------------------------------\n",
    "\n",
    "#Tumor------------------------------\n",
    "I_tumor=np.ceil(L4/dz_t)+1\n",
    "I_tumor=I_tumor.astype(int)\n",
    "I_tumor_2=2*(I_tumor-1)\n",
    "#-----------------------------------\n",
    "\n",
    "#Tejido muscular--------------------\n",
    "I_muscular=np.ceil(L5/dz_m)+1\n",
    "I_muscular=I_muscular.astype(int)\n",
    "I_muscular_2=2*(I_muscular-1)\n",
    "#-----------------------------------\n",
    "\n",
    "#Intervalo donde termina cada tipo de tejido teniendo en cuenta los demás\n",
    "\n",
    "#Piel----------------\n",
    "I_p=I_v_2+I_piel_2\n",
    "I_p=I_p.astype(int)\n",
    "#--------------------\n",
    "\n",
    "#Tejido adiposo------\n",
    "I_a=I_p+I_adiposo_2\n",
    "I_a=I_a.astype(int)\n",
    "#--------------------\n",
    "\n",
    "#Tejido glandular----\n",
    "I_g=I_a+I_glandular_2\n",
    "I_g=I_g.astype(int)\n",
    "#--------------------\n",
    "\n",
    "#Tumor---------------\n",
    "I_t=I_g+I_tumor_2\n",
    "I_t=I_t.astype(int)\n",
    "#--------------------\n",
    "\n",
    "#Tejido muscular-----\n",
    "I_m=I_t+I_muscular_2\n",
    "I_m=I_m.astype(int)\n",
    "#--------------------\n",
    "\n",
    "#Total de intervalos---------------------------------\n",
    "I=I_v+I_piel+I_adiposo+I_glandular+I_tumor+I_muscular\n",
    "#----------------------------------------------------\n"
   ]
  },
  {
   "cell_type": "code",
   "execution_count": 12,
   "metadata": {},
   "outputs": [
    {
     "data": {
      "text/plain": [
       "(148, 562, 850, 888, 450, 889)"
      ]
     },
     "execution_count": 12,
     "metadata": {},
     "output_type": "execute_result"
    }
   ],
   "source": [
    "#Posiciones\n",
    "#Campo Eléctrico\n",
    "\n",
    "#len-->I+1\n",
    "\n",
    "z_1=np.linspace(a,P0,I_v);  dz1=z_1[1]-z_1[0]\n",
    "zh1=0.5*(z_1[0:-1]+z_1[1::]); dzh1=zh1[1]-zh1[0]\n",
    "\n",
    "z_2=np.linspace(P0,P1,I_piel); dz2=z_2[1]-z_2[0]\n",
    "zh2=0.5*(z_2[0:-1]+z_2[1::]); dzh2=zh2[1]-zh2[0]\n",
    "\n",
    "z_3=np.linspace(P1,P2,I_adiposo); dz3=z_3[1]-z_3[0]\n",
    "zh3=0.5*(z_3[0:-1]+z_3[1::]); dzh3=zh3[1]-zh3[0]\n",
    "\n",
    "z_4=np.linspace(P2,P3,I_glandular); dz4=z_4[1]-z_4[0]\n",
    "zh4=0.5*(z_4[0:-1]+z_4[1::]); dzh4=zh4[1]-zh4[0]\n",
    "\n",
    "z_5=np.linspace(P3,P4,I_tumor); dz5=z_5[1]-z_5[0]\n",
    "zh5=0.5*(z_5[0:-1]+z_5[1::]); dzh5=zh5[1]-zh5[0]\n",
    "\n",
    "z_6=np.linspace(P4,P5,I_muscular); dz6=z_6[1]-z_6[0] \n",
    "zh6=0.5*(z_6[0:-1]+z_6[1::]); dzh6=zh6[1]-zh6[0]\n",
    "\n",
    "\n",
    "z=np.hstack((z_1,z_2[1::],z_3[1::],z_4[1::],z_5[1::],z_6[1::]))\n",
    "\n",
    "#Campo Magnético\n",
    "\n",
    "#len-->I\n",
    "\n",
    "z2=0.5*(z[0:-1]+z[1::])\n",
    "\n",
    "Itotal=I_m+1\n",
    "\n",
    "dz4,dz5,len(z),len(z2),I_v_2,I_p,\n",
    "I_a,I_g,I_t,I_m,I,Itotal#I_v,I_v_2,I_piel,I_piel_2,I_adiposo,I_adiposo_2,I_glandular,I_glandular_2,I_tumor,I_tumor_2,I_muscular,I_muscular_2"
   ]
  },
  {
   "cell_type": "code",
   "execution_count": 13,
   "metadata": {},
   "outputs": [
    {
     "data": {
      "text/plain": [
       "(445, 444)"
      ]
     },
     "execution_count": 13,
     "metadata": {},
     "output_type": "execute_result"
    }
   ],
   "source": [
    "#Creación de matrices\n",
    "\n",
    "B=np.zeros((Itotal,Itotal), dtype=np.complex_)  #Matriz de rotacionales\n",
    "\n",
    "V1=np.zeros((Itotal,Itotal), dtype=np.complex_)  #Submatriz vacio\n",
    "P1=np.zeros((Itotal,Itotal),dtype=np.complex_)   #Submatriz piel\n",
    "Ad1=np.zeros((Itotal,Itotal),dtype=np.complex_)  #Submatriz tejido adiposo\n",
    "G1=np.zeros((Itotal,Itotal),dtype=np.complex_)   #Submatriz tejido glandular\n",
    "Tu1=np.zeros((Itotal,Itotal),dtype=np.complex_)  #Submatriz tumor\n",
    "M1=np.zeros((Itotal,Itotal),dtype=np.complex_)\n",
    "\n",
    "#Vectores asociados a los campos\n",
    "\n",
    "E1=np.zeros((len(z),1),dtype=np.complex_)     #Campo eléctrico(E) con la solución del vector propio (v.p) de la primera columna\n",
    "H1=np.zeros((len(z2),1),dtype=np.complex_)       #Campo magnético(H) con la solución del v.p de la primera columna\n",
    "\n",
    "len(E1),len(H1)"
   ]
  },
  {
   "cell_type": "code",
   "execution_count": 14,
   "metadata": {},
   "outputs": [],
   "source": [
    "def vacio1():   \n",
    "#------------------vacio--------------------    \n",
    "    \n",
    "    for v1 in range(0,I_v_2+1):\n",
    "        \n",
    "        if v1%2 == 0:\n",
    "        \n",
    "            if v1 == 0:\n",
    "                  \n",
    "                V1[v1][v1+1] = -2*m0*c0\n",
    "                V1[v1][v1+2] = -1\n",
    "                \n",
    "            \n",
    "            if v1 == I_v_2:\n",
    "            \n",
    "                V1[v1][v1-4] =  -(1/2) \n",
    "                V1[v1][v1-2] = (1) \n",
    "            \n",
    "            #else:\n",
    "            \n",
    "            V1[v1][v1-1] =  (1/dz1)*n0*c0\n",
    "            V1[v1][v1+1] = (-1/dz1)*n0*c0\n",
    "                \n",
    "        elif v1%2 != 0:\n",
    "            \n",
    "            V1[v1][v1-1] =  (1/dzh1)*(1/n0)*c0\n",
    "            V1[v1][v1+1] = (-1/dzh1)*(1/n0)*c0\n",
    "            \n",
    "            \n",
    "    return(V1)\n",
    " \n",
    "def piel1():    \n",
    "#------------------piel---------------------  \n",
    "\n",
    "    for p1 in range(I_v_2,I_p+1):\n",
    "        \n",
    "        if p1%2 == 0:\n",
    "        \n",
    "            if p1 == I_p:\n",
    "            \n",
    "                P1[p1][p1-4] = -(1/2) \n",
    "                P1[p1][p1-2] = (1) \n",
    "            \n",
    "            if p1 == I_v_2:\n",
    "            \n",
    "                P1[p1][p1+2] = (1) \n",
    "                P1[p1][p1+4] = -(1/2) \n",
    "        \n",
    "            #else:\n",
    "            \n",
    "            P1[p1][p1-1] =  (1/dz2)*npp*c_p\n",
    "            P1[p1][p1+1] = (-1/dz2)*npp*c_p\n",
    "                \n",
    "        elif p1%2 != 0:\n",
    "            \n",
    "            P1[p1][p1-1] =  (1/dzh2)*(1/npp)*c_p\n",
    "            P1[p1][p1+1] = (-1/dzh2)*(1/npp)*c_p\n",
    "            \n",
    "    return(P1)    \n",
    "#-------------tejido adiposo----------------\n",
    "\n",
    "def adiposo1():\n",
    "    \n",
    "    for a1 in range(I_p,I_a+1):\n",
    "        \n",
    "        if a1%2 == 0:\n",
    "            \n",
    "            if a1 == I_a:\n",
    "            \n",
    "                Ad1[a1][a1-4] = -(1/2)\n",
    "                Ad1[a1][a1-2] = (1)\n",
    "                \n",
    "            \n",
    "            if a1 == I_p:\n",
    "            \n",
    "                Ad1[a1][a1+2] = (1) \n",
    "                Ad1[a1][a1+4] = -(1/2) \n",
    "            \n",
    "\n",
    "            #else:\n",
    "            \n",
    "            Ad1[a1][a1-1] =  (1/dz3)*na*c_a\n",
    "            Ad1[a1][a1+1] = (-1/dz3)*na*c_a\n",
    "                \n",
    "        elif a1%2 != 0:\n",
    "            \n",
    "            Ad1[a1][a1-1] =  (1/dzh3)*(1/na)*c_a\n",
    "            Ad1[a1][a1+1] = (-1/dzh3)*(1/na)*c_a\n",
    "            \n",
    "\n",
    "    return(Ad1)\n",
    "#------------tejido glandular---------------\n",
    "\n",
    "def glandular1():\n",
    "    \n",
    "    for g1 in range(I_a,I_g+1):\n",
    "        \n",
    "        if g1%2 == 0:\n",
    "            \n",
    "            if g1 == I_g:\n",
    "            \n",
    "                G1[g1][g1-4] = -(1/2)\n",
    "                G1[g1][g1-2] = (1)\n",
    "            \n",
    "            if g1 == I_a:\n",
    "            \n",
    "                G1[g1][g1+2] = (1) \n",
    "                G1[g1][g1+4] = -(1/2) \n",
    "            \n",
    "            \n",
    "            #else:\n",
    "              \n",
    "            G1[g1][g1-1] =  (1/dz4)*ng*c_g\n",
    "            G1[g1][g1+1] = (-1/dz4)*ng*c_g\n",
    "                \n",
    "        elif g1%2 != 0:\n",
    "            \n",
    "            G1[g1][g1-1] =  (1/dzh4)*(1/ng)*c_g\n",
    "            G1[g1][g1+1] = (-1/dzh4)*(1/ng)*c_g\n",
    "\n",
    "    return(G1)       \n",
    "#-------------------tumor-------------------\n",
    "\n",
    "def tumor1():\n",
    "    \n",
    "    for t1 in range(I_g,I_t+1):\n",
    "        \n",
    "        if t1%2 == 0:\n",
    "        \n",
    "            if t1 == I_t:\n",
    "            \n",
    "                Tu1[t1][t1-4] = -(1/2)\n",
    "                Tu1[t1][t1-2] = (1)\n",
    "            \n",
    "            if t1 == I_g:\n",
    "            \n",
    "                Tu1[t1][t1+2] = (1) \n",
    "                Tu1[t1][t1+4] = -(1/2) \n",
    "            \n",
    "            \n",
    "            #else:\n",
    "                  \n",
    "            Tu1[t1][t1-1] =  (1/dz5)*nt*c_t\n",
    "            Tu1[t1][t1+1] = (-1/dz5)*nt*c_t\n",
    "                \n",
    "        elif t1%2 != 0:\n",
    "            \n",
    "            Tu1[t1][t1-1] =  (1/dzh5)*(1/nt)*c_t\n",
    "            Tu1[t1][t1+1] = (-1/dzh5)*(1/nt)*c_t\n",
    "            \n",
    "    return(Tu1)   \n",
    "#----------------tejido muscular---------------        \n",
    "\n",
    "def muscular1():\n",
    "        \n",
    "    for m1 in range(I_t,I_m+1):\n",
    "        \n",
    "        if m1%2 == 0:\n",
    "            \n",
    "            if m1 == I_m:\n",
    "            \n",
    "                M1[m1][m1-1] = 2*m0*c0\n",
    "                M1[m1][m1-2] = -1\n",
    "                \n",
    "            \n",
    "            elif m1 == I_t:\n",
    "            \n",
    "                M1[m1][m1+2] = (1) \n",
    "                M1[m1][m1+4] = (-1/2) \n",
    "            \n",
    "\n",
    "            else:\n",
    "            \n",
    "                M1[m1][m1-1] =  (1/dz6)*nm*c_m\n",
    "                M1[m1][m1+1] = (-1/dz6)*nm*c_m\n",
    "                \n",
    "        elif m1%2 != 0:\n",
    "            \n",
    "            M1[m1][m1-1] =  (1/dzh6)*(1/nm)*c_m\n",
    "            M1[m1][m1+1] = (-1/dzh6)*(1/nm)*c_m\n",
    "                \n",
    "    return(M1)"
   ]
  },
  {
   "cell_type": "code",
   "execution_count": 15,
   "metadata": {},
   "outputs": [
    {
     "data": {
      "text/plain": [
       "(104, 114, 148, 562, 850, 888)"
      ]
     },
     "execution_count": 15,
     "metadata": {},
     "output_type": "execute_result"
    }
   ],
   "source": [
    "B = vacio1()+piel1()+adiposo1()+glandular1()+tumor1()+muscular1()\n",
    "1/dz1,1/dz2,1/dz3,1/dz4,1/dz5,1/dz6\n",
    "I_v_2,I_p,I_a,I_g,I_t,I_m\n",
    "\n"
   ]
  },
  {
   "cell_type": "code",
   "execution_count": 16,
   "metadata": {},
   "outputs": [
    {
     "data": {
      "text/plain": [
       "<matplotlib.image.AxesImage at 0x1c9b13d41c0>"
      ]
     },
     "execution_count": 16,
     "metadata": {},
     "output_type": "execute_result"
    },
    {
     "data": {
      "image/png": "[encoded data removed]",
      "text/plain": [
       "<Figure size 432x288 with 1 Axes>"
      ]
     },
     "metadata": {
      "needs_background": "light"
     },
     "output_type": "display_data"
    }
   ],
   "source": [
    "plt.spy(B[100:120,100:120])"
   ]
  },
  {
   "cell_type": "code",
   "execution_count": 17,
   "metadata": {},
   "outputs": [],
   "source": [
    "#Valores y vectores propios\n",
    "\n",
    "Lp,Vp=np.linalg.eig(B)  #Lp--> valores propios, V--> vectores propios\n"
   ]
  },
  {
   "cell_type": "markdown",
   "metadata": {},
   "source": [
    "### Índices de los valores propios\n",
    "\n",
    "Se organiza la parte imaginaria de los valores propios de menor a mayor y se obtienen sus índices para poder asociarlos a los vectores propios."
   ]
  },
  {
   "cell_type": "code",
   "execution_count": 18,
   "metadata": {},
   "outputs": [
    {
     "data": {
      "text/plain": [
       "889"
      ]
     },
     "execution_count": 18,
     "metadata": {},
     "output_type": "execute_result"
    }
   ],
   "source": [
    "idx = np.argsort(Lp.imag)   #Toma los valores propios y los organiza de menor a mayor y se le asigna un índice a cada uno\n",
    "L1 = Lp[idx]                #Se organizan los valores propios usando el índice que se tomó en el paso anterior\n",
    "Vp1 = Vp[:,idx]            #Toma el índice asociado a los valores propios y los asigna a cada columna de la matriz de vectores propios para poder organizarlos\n",
    "len(Vp1)"
   ]
  },
  {
   "cell_type": "code",
   "execution_count": 19,
   "metadata": {},
   "outputs": [
    {
     "data": {
      "text/plain": [
       "(488069308015.73584,\n",
       " array([-4.88069308e+11, -4.07233689e+11, -3.95505587e+11, -3.47604264e+11,\n",
       "        -3.15036157e+11, -3.12140820e+11, -3.09064756e+11, -3.07438601e+11,\n",
       "        -3.06156214e+11, -3.04124265e+11, -3.03830923e+11, -3.03416807e+11,\n",
       "        -3.02731567e+11, -3.01775490e+11, -3.01482934e+11, -3.01123036e+11,\n",
       "        -3.01067262e+11, -3.00974478e+11, -3.00845110e+11, -3.00679795e+11,\n",
       "        -3.00549703e+11, -3.00479202e+11, -3.00390106e+11, -3.00363899e+11,\n",
       "        -3.00320241e+11, -3.00259317e+11, -3.00243615e+11, -3.00180395e+11,\n",
       "        -3.00084472e+11, -2.99976283e+11, -2.99968472e+11, -2.99839985e+11,\n",
       "        -2.99693088e+11, -2.99668275e+11, -2.99525899e+11, -2.99346858e+11,\n",
       "        -2.99327429e+11, -2.99142661e+11, -2.99057193e+11, -2.98961816e+11,\n",
       "        -2.98922078e+11, -2.98690776e+11, -2.98554000e+11, -2.98437666e+11,\n",
       "        -2.98175027e+11, -2.98111873e+11, -2.97897164e+11, -2.97723093e+11,\n",
       "        -2.97644505e+11, -2.97546676e+11, -2.97273974e+11, -2.97236928e+11,\n",
       "        -2.97137080e+11, -2.96903343e+11, -2.96612275e+11, -2.96540883e+11,\n",
       "        -2.96179648e+11, -2.96037695e+11, -2.95784771e+11, -2.95456571e+11,\n",
       "        -2.95368759e+11, -2.95253937e+11, -2.94958744e+11, -2.94827809e+11,\n",
       "        -2.94510822e+11, -2.94205562e+11, -2.94046428e+11, -2.93578629e+11,\n",
       "        -2.93561880e+11, -2.93087507e+11, -2.92962413e+11, -2.92913730e+11,\n",
       "        -2.92572576e+11, -2.92237435e+11, -2.92038471e+11, -2.91544096e+11,\n",
       "        -2.91456539e+11, -2.90951183e+11, -2.90715547e+11, -2.90412259e+11,\n",
       "        -2.90363858e+11, -2.89922016e+11, -2.89757855e+11, -2.89203340e+11,\n",
       "        -2.89031740e+11, -2.88624285e+11, -2.88311539e+11, -2.88156142e+11,\n",
       "        -2.87816675e+11, -2.87571734e+11, -2.87289567e+11, -2.87139418e+11,\n",
       "        -2.86533567e+11, -2.86288246e+11, -2.85823750e+11, -2.85352502e+11,\n",
       "        -2.85094301e+11, -2.84515009e+11, -2.84448680e+11, -2.84293701e+11,\n",
       "        -2.83661739e+11, -2.83354059e+11, -2.82885399e+11, -2.82385323e+11,\n",
       "        -2.82091302e+11, -2.81424626e+11, -2.81250573e+11, -2.81191615e+11,\n",
       "        -2.80546381e+11, -2.80271526e+11, -2.79698447e+11, -2.79211445e+11,\n",
       "        -2.78839958e+11, -2.78149710e+11, -2.77933875e+11, -2.77634876e+11,\n",
       "        -2.77232896e+11, -2.76877827e+11, -2.76594155e+11, -2.76074808e+11,\n",
       "        -2.75666717e+11, -2.75215658e+11, -2.74509806e+11, -2.74249278e+11,\n",
       "        -2.73782982e+11, -2.73455996e+11, -2.73121958e+11, -2.72466930e+11,\n",
       "        -2.71904788e+11, -2.71467141e+11, -2.70698833e+11, -2.70421889e+11,\n",
       "        -2.69729109e+11, -2.69582835e+11, -2.69261572e+11, -2.68526308e+11,\n",
       "        -2.68013682e+11, -2.67465483e+11, -2.66737385e+11, -2.66373220e+11,\n",
       "        -2.65519833e+11, -2.65435385e+11, -2.65179445e+11, -2.64384620e+11,\n",
       "        -2.63861689e+11, -2.63355292e+11, -2.62712320e+11, -2.62378429e+11,\n",
       "        -2.61856688e+11, -2.61060949e+11, -2.60859288e+11, -2.60687964e+11,\n",
       "        -2.59803552e+11, -2.59342683e+11, -2.58606506e+11, -2.57900584e+11,\n",
       "        -2.57390983e+11, -2.56486440e+11, -2.56144622e+11, -2.56097710e+11,\n",
       "        -2.55164703e+11, -2.54712785e+11, -2.53897348e+11, -2.53242370e+11,\n",
       "        -2.52626894e+11, -2.51761273e+11, -2.51337314e+11, -2.51191168e+11,\n",
       "        -2.50335880e+11, -2.49896747e+11, -2.49029406e+11, -2.48384337e+11,\n",
       "        -2.47893391e+11, -2.47223111e+11, -2.46680043e+11, -2.46138258e+11,\n",
       "        -2.45720501e+11, -2.45103474e+11, -2.44654146e+11, -2.43655802e+11,\n",
       "        -2.43103468e+11, -2.42253459e+11, -2.41463519e+11, -2.40869752e+11,\n",
       "        -2.40596143e+11, -2.39831373e+11, -2.39345907e+11, -2.38306944e+11,\n",
       "        -2.37767134e+11, -2.36869216e+11, -2.36157495e+11, -2.35869467e+11,\n",
       "        -2.35260272e+11, -2.34400219e+11, -2.33885575e+11, -2.33246141e+11,\n",
       "        -2.32628872e+11, -2.32131639e+11, -2.31095889e+11, -2.30458763e+11,\n",
       "        -2.29587655e+11, -2.28773918e+11, -2.28545674e+11, -2.27947030e+11,\n",
       "        -2.26920668e+11, -2.26368497e+11, -2.25339496e+11, -2.24683564e+11,\n",
       "        -2.24149490e+11, -2.23374518e+11, -2.22707179e+11, -2.22055312e+11,\n",
       "        -2.21549709e+11, -2.20837366e+11, -2.20191094e+11, -2.19092361e+11,\n",
       "        -2.18497414e+11, -2.17406279e+11, -2.16682570e+11, -2.16099491e+11,\n",
       "        -2.15705206e+11, -2.14793472e+11, -2.14043330e+11, -2.12931816e+11,\n",
       "        -2.12294214e+11, -2.11151589e+11, -2.10439426e+11, -2.09836593e+11,\n",
       "        -2.09381651e+11, -2.08488787e+11, -2.07733324e+11, -2.06674322e+11,\n",
       "        -2.06083953e+11, -2.05279150e+11, -2.04366003e+11, -2.03744698e+11,\n",
       "        -2.02977616e+11, -2.02523014e+11, -2.01818209e+11, -2.00815215e+11,\n",
       "        -1.99847213e+11, -1.99030383e+11, -1.97882731e+11, -1.97175953e+11,\n",
       "        -1.96288245e+11, -1.95956699e+11, -1.95209999e+11, -1.94112331e+11,\n",
       "        -1.93177723e+11, -1.92262659e+11, -1.91134642e+11, -1.90377134e+11,\n",
       "        -1.89421921e+11, -1.89111723e+11, -1.88377803e+11, -1.87285194e+11,\n",
       "        -1.86353684e+11, -1.85573488e+11, -1.84569449e+11, -1.83861229e+11,\n",
       "        -1.82967017e+11, -1.82100813e+11, -1.81775038e+11, -1.81043529e+11,\n",
       "        -1.79839586e+11, -1.79043070e+11, -1.77887642e+11, -1.76931263e+11,\n",
       "        -1.75939935e+11, -1.74898802e+11, -1.74748661e+11, -1.73933489e+11,\n",
       "        -1.72690148e+11, -1.71870939e+11, -1.70652296e+11, -1.69719005e+11,\n",
       "        -1.68659361e+11, -1.67637575e+11, -1.67417696e+11, -1.66611765e+11,\n",
       "        -1.65400253e+11, -1.64589873e+11, -1.63523141e+11, -1.62601332e+11,\n",
       "        -1.61856113e+11, -1.60756807e+11, -1.59923991e+11, -1.59524803e+11,\n",
       "        -1.58675712e+11, -1.57597860e+11, -1.56671538e+11, -1.55419105e+11,\n",
       "        -1.54545714e+11, -1.53294858e+11, -1.52372949e+11, -1.52080265e+11,\n",
       "        -1.51150027e+11, -1.50051233e+11, -1.49051855e+11, -1.47805354e+11,\n",
       "        -1.46902975e+11, -1.45670017e+11, -1.44890204e+11, -1.44453960e+11,\n",
       "        -1.43416434e+11, -1.42380191e+11, -1.41512035e+11, -1.40502576e+11,\n",
       "        -1.39647609e+11, -1.38691043e+11, -1.37495725e+11, -1.36624618e+11,\n",
       "        -1.35861255e+11, -1.35105010e+11, -1.34194401e+11, -1.33017118e+11,\n",
       "        -1.31899018e+11, -1.30865722e+11, -1.29655422e+11, -1.28904308e+11,\n",
       "        -1.28304804e+11, -1.27209061e+11, -1.26270814e+11, -1.25131837e+11,\n",
       "        -1.24181488e+11, -1.23487545e+11, -1.22458606e+11, -1.21368132e+11,\n",
       "        -1.20340389e+11, -1.19129031e+11, -1.18476942e+11, -1.17852536e+11,\n",
       "        -1.16635617e+11, -1.15604558e+11, -1.14393571e+11, -1.13225900e+11,\n",
       "        -1.12182551e+11, -1.11144448e+11, -1.10584889e+11, -1.09721307e+11,\n",
       "        -1.08502851e+11, -1.07521012e+11, -1.06524008e+11, -1.05492552e+11,\n",
       "        -1.04597788e+11, -1.03448818e+11, -1.02361784e+11, -1.01662913e+11,\n",
       "        -1.01008119e+11, -9.98411774e+10, -9.87959275e+10, -9.74828097e+10,\n",
       "        -9.64042578e+10, -9.51409605e+10, -9.39888270e+10, -9.35066101e+10,\n",
       "        -9.27328017e+10, -9.14706443e+10, -9.03841305e+10, -8.90656423e+10,\n",
       "        -8.79806479e+10, -8.67529628e+10, -8.56849231e+10, -8.51329311e+10,\n",
       "        -8.43103352e+10, -8.31844357e+10, -8.22440624e+10, -8.11601322e+10,\n",
       "        -8.00761707e+10, -7.90173280e+10, -7.77578590e+10, -7.67034043e+10,\n",
       "        -7.60921697e+10, -7.53131749e+10, -7.41751301e+10, -7.29600092e+10,\n",
       "        -7.16964397e+10, -7.05473745e+10, -6.92258654e+10, -6.81107250e+10,\n",
       "        -6.75412200e+10, -6.67392394e+10, -6.55685129e+10, -6.43344311e+10,\n",
       "        -6.30757483e+10, -6.19320992e+10, -6.06629509e+10, -5.96381915e+10,\n",
       "        -5.89562913e+10, -5.81496982e+10, -5.71326680e+10, -5.61288197e+10,\n",
       "        -5.49952403e+10, -5.39300022e+10, -5.27319618e+10, -5.15239107e+10,\n",
       "        -5.03874376e+10, -4.97251434e+10, -4.89867220e+10, -4.78507686e+10,\n",
       "        -4.65483466e+10, -4.53531286e+10, -4.40870428e+10, -4.28302670e+10,\n",
       "        -4.16524218e+10, -4.10482737e+10, -4.02550900e+10, -3.90911269e+10,\n",
       "        -3.77942945e+10, -3.66028073e+10, -3.53842041e+10, -3.42063202e+10,\n",
       "        -3.32466891e+10, -3.24326613e+10, -3.15186467e+10, -3.05945283e+10,\n",
       "        -2.95849705e+10, -2.84669241e+10, -2.73483518e+10, -2.60974581e+10,\n",
       "        -2.49142056e+10, -2.37172165e+10, -2.29752580e+10, -2.22837825e+10,\n",
       "        -2.11121062e+10, -1.98315076e+10, -1.86305711e+10, -1.73441608e+10,\n",
       "        -1.61447525e+10, -1.50698062e+10, -1.44519807e+10, -1.34602355e+10,\n",
       "        -1.22898564e+10, -1.10649420e+10, -9.98615946e+09, -9.00084456e+09,\n",
       "        -7.99802484e+09, -6.92326619e+09, -5.73691181e+09, -4.63060637e+09,\n",
       "        -3.84147919e+09, -2.97034159e+09, -1.81145213e+09, -6.31627390e+08,\n",
       "         1.04450016e-06,  6.31627387e+08,  1.81145213e+09,  2.97034160e+09,\n",
       "         3.84147917e+09,  4.63060639e+09,  5.73691180e+09,  6.92326620e+09,\n",
       "         7.99802483e+09,  9.00084457e+09,  9.98615945e+09,  1.10649420e+10,\n",
       "         1.22898563e+10,  1.34602355e+10,  1.44519807e+10,  1.50698063e+10,\n",
       "         1.61447525e+10,  1.73441608e+10,  1.86305711e+10,  1.98315076e+10,\n",
       "         2.11121062e+10,  2.22837825e+10,  2.29752580e+10,  2.37172165e+10,\n",
       "         2.49142056e+10,  2.60974581e+10,  2.73483518e+10,  2.84669241e+10,\n",
       "         2.95849705e+10,  3.05945283e+10,  3.15186467e+10,  3.24326613e+10,\n",
       "         3.32466891e+10,  3.42063203e+10,  3.53842041e+10,  3.66028073e+10,\n",
       "         3.77942945e+10,  3.90911269e+10,  4.02550900e+10,  4.10482737e+10,\n",
       "         4.16524218e+10,  4.28302670e+10,  4.40870428e+10,  4.53531286e+10,\n",
       "         4.65483466e+10,  4.78507686e+10,  4.89867220e+10,  4.97251434e+10,\n",
       "         5.03874376e+10,  5.15239107e+10,  5.27319618e+10,  5.39300022e+10,\n",
       "         5.49952403e+10,  5.61288197e+10,  5.71326680e+10,  5.81496982e+10,\n",
       "         5.89562913e+10,  5.96381915e+10,  6.06629509e+10,  6.19320992e+10,\n",
       "         6.30757483e+10,  6.43344311e+10,  6.55685129e+10,  6.67392394e+10,\n",
       "         6.75412200e+10,  6.81107250e+10,  6.92258654e+10,  7.05473745e+10,\n",
       "         7.16964397e+10,  7.29600092e+10,  7.41751301e+10,  7.53131749e+10,\n",
       "         7.60921697e+10,  7.67034043e+10,  7.77578590e+10,  7.90173280e+10,\n",
       "         8.00761707e+10,  8.11601322e+10,  8.22440624e+10,  8.31844357e+10,\n",
       "         8.43103352e+10,  8.51329311e+10,  8.56849231e+10,  8.67529628e+10,\n",
       "         8.79806479e+10,  8.90656423e+10,  9.03841305e+10,  9.14706443e+10,\n",
       "         9.27328017e+10,  9.35066101e+10,  9.39888270e+10,  9.51409605e+10,\n",
       "         9.64042578e+10,  9.74828097e+10,  9.87959275e+10,  9.98411774e+10,\n",
       "         1.01008119e+11,  1.01662913e+11,  1.02361784e+11,  1.03448818e+11,\n",
       "         1.04597788e+11,  1.05492552e+11,  1.06524008e+11,  1.07521012e+11,\n",
       "         1.08502851e+11,  1.09721307e+11,  1.10584889e+11,  1.11144448e+11,\n",
       "         1.12182551e+11,  1.13225900e+11,  1.14393571e+11,  1.15604558e+11,\n",
       "         1.16635617e+11,  1.17852536e+11,  1.18476942e+11,  1.19129031e+11,\n",
       "         1.20340389e+11,  1.21368132e+11,  1.22458606e+11,  1.23487545e+11,\n",
       "         1.24181488e+11,  1.25131837e+11,  1.26270814e+11,  1.27209061e+11,\n",
       "         1.28304804e+11,  1.28904308e+11,  1.29655422e+11,  1.30865722e+11,\n",
       "         1.31899018e+11,  1.33017118e+11,  1.34194401e+11,  1.35105010e+11,\n",
       "         1.35861255e+11,  1.36624618e+11,  1.37495725e+11,  1.38691043e+11,\n",
       "         1.39647609e+11,  1.40502576e+11,  1.41512035e+11,  1.42380191e+11,\n",
       "         1.43416434e+11,  1.44453960e+11,  1.44890204e+11,  1.45670017e+11,\n",
       "         1.46902975e+11,  1.47805354e+11,  1.49051855e+11,  1.50051233e+11,\n",
       "         1.51150027e+11,  1.52080265e+11,  1.52372949e+11,  1.53294858e+11,\n",
       "         1.54545714e+11,  1.55419105e+11,  1.56671538e+11,  1.57597860e+11,\n",
       "         1.58675712e+11,  1.59524803e+11,  1.59923991e+11,  1.60756807e+11,\n",
       "         1.61856113e+11,  1.62601332e+11,  1.63523141e+11,  1.64589873e+11,\n",
       "         1.65400253e+11,  1.66611765e+11,  1.67417696e+11,  1.67637575e+11,\n",
       "         1.68659361e+11,  1.69719005e+11,  1.70652296e+11,  1.71870939e+11,\n",
       "         1.72690148e+11,  1.73933489e+11,  1.74748661e+11,  1.74898802e+11,\n",
       "         1.75939935e+11,  1.76931263e+11,  1.77887642e+11,  1.79043070e+11,\n",
       "         1.79839586e+11,  1.81043529e+11,  1.81775038e+11,  1.82100813e+11,\n",
       "         1.82967017e+11,  1.83861229e+11,  1.84569449e+11,  1.85573488e+11,\n",
       "         1.86353684e+11,  1.87285194e+11,  1.88377803e+11,  1.89111723e+11,\n",
       "         1.89421921e+11,  1.90377134e+11,  1.91134642e+11,  1.92262659e+11,\n",
       "         1.93177723e+11,  1.94112331e+11,  1.95209999e+11,  1.95956699e+11,\n",
       "         1.96288245e+11,  1.97175953e+11,  1.97882731e+11,  1.99030383e+11,\n",
       "         1.99847213e+11,  2.00815215e+11,  2.01818209e+11,  2.02523014e+11,\n",
       "         2.02977616e+11,  2.03744698e+11,  2.04366003e+11,  2.05279150e+11,\n",
       "         2.06083953e+11,  2.06674322e+11,  2.07733324e+11,  2.08488787e+11,\n",
       "         2.09381651e+11,  2.09836593e+11,  2.10439426e+11,  2.11151589e+11,\n",
       "         2.12294214e+11,  2.12931816e+11,  2.14043330e+11,  2.14793472e+11,\n",
       "         2.15705206e+11,  2.16099491e+11,  2.16682570e+11,  2.17406279e+11,\n",
       "         2.18497414e+11,  2.19092361e+11,  2.20191094e+11,  2.20837366e+11,\n",
       "         2.21549709e+11,  2.22055312e+11,  2.22707179e+11,  2.23374518e+11,\n",
       "         2.24149490e+11,  2.24683564e+11,  2.25339496e+11,  2.26368497e+11,\n",
       "         2.26920668e+11,  2.27947030e+11,  2.28545674e+11,  2.28773918e+11,\n",
       "         2.29587655e+11,  2.30458763e+11,  2.31095889e+11,  2.32131639e+11,\n",
       "         2.32628872e+11,  2.33246141e+11,  2.33885575e+11,  2.34400219e+11,\n",
       "         2.35260272e+11,  2.35869467e+11,  2.36157495e+11,  2.36869216e+11,\n",
       "         2.37767134e+11,  2.38306944e+11,  2.39345907e+11,  2.39831373e+11,\n",
       "         2.40596143e+11,  2.40869752e+11,  2.41463519e+11,  2.42253459e+11,\n",
       "         2.43103468e+11,  2.43655802e+11,  2.44654146e+11,  2.45103474e+11,\n",
       "         2.45720501e+11,  2.46138258e+11,  2.46680043e+11,  2.47223111e+11,\n",
       "         2.47893391e+11,  2.48384337e+11,  2.49029406e+11,  2.49896747e+11,\n",
       "         2.50335880e+11,  2.51191168e+11,  2.51337314e+11,  2.51761273e+11,\n",
       "         2.52626894e+11,  2.53242370e+11,  2.53897348e+11,  2.54712785e+11,\n",
       "         2.55164703e+11,  2.56097710e+11,  2.56144622e+11,  2.56486440e+11,\n",
       "         2.57390983e+11,  2.57900584e+11,  2.58606506e+11,  2.59342683e+11,\n",
       "         2.59803552e+11,  2.60687964e+11,  2.60859288e+11,  2.61060949e+11,\n",
       "         2.61856688e+11,  2.62378429e+11,  2.62712320e+11,  2.63355292e+11,\n",
       "         2.63861689e+11,  2.64384620e+11,  2.65179445e+11,  2.65435385e+11,\n",
       "         2.65519833e+11,  2.66373220e+11,  2.66737385e+11,  2.67465483e+11,\n",
       "         2.68013682e+11,  2.68526308e+11,  2.69261572e+11,  2.69582835e+11,\n",
       "         2.69729109e+11,  2.70421889e+11,  2.70698833e+11,  2.71467141e+11,\n",
       "         2.71904788e+11,  2.72466930e+11,  2.73121958e+11,  2.73455996e+11,\n",
       "         2.73782982e+11,  2.74249278e+11,  2.74509806e+11,  2.75215658e+11,\n",
       "         2.75666717e+11,  2.76074808e+11,  2.76594155e+11,  2.76877827e+11,\n",
       "         2.77232896e+11,  2.77634876e+11,  2.77933875e+11,  2.78149710e+11,\n",
       "         2.78839958e+11,  2.79211445e+11,  2.79698447e+11,  2.80271526e+11,\n",
       "         2.80546381e+11,  2.81191615e+11,  2.81250573e+11,  2.81424626e+11,\n",
       "         2.82091302e+11,  2.82385323e+11,  2.82885399e+11,  2.83354059e+11,\n",
       "         2.83661739e+11,  2.84293701e+11,  2.84448680e+11,  2.84515009e+11,\n",
       "         2.85094301e+11,  2.85352502e+11,  2.85823750e+11,  2.86288246e+11,\n",
       "         2.86533567e+11,  2.87139418e+11,  2.87289567e+11,  2.87571734e+11,\n",
       "         2.87816675e+11,  2.88156142e+11,  2.88311539e+11,  2.88624285e+11,\n",
       "         2.89031740e+11,  2.89203340e+11,  2.89757855e+11,  2.89922016e+11,\n",
       "         2.90363858e+11,  2.90412259e+11,  2.90715547e+11,  2.90951183e+11,\n",
       "         2.91456539e+11,  2.91544096e+11,  2.92038471e+11,  2.92237435e+11,\n",
       "         2.92572576e+11,  2.92913730e+11,  2.92962413e+11,  2.93087507e+11,\n",
       "         2.93561880e+11,  2.93578629e+11,  2.94046428e+11,  2.94205562e+11,\n",
       "         2.94510822e+11,  2.94827809e+11,  2.94958744e+11,  2.95253937e+11,\n",
       "         2.95368759e+11,  2.95456571e+11,  2.95784771e+11,  2.96037695e+11,\n",
       "         2.96179648e+11,  2.96540883e+11,  2.96612275e+11,  2.96903343e+11,\n",
       "         2.97137080e+11,  2.97236928e+11,  2.97273974e+11,  2.97546676e+11,\n",
       "         2.97644505e+11,  2.97723093e+11,  2.97897164e+11,  2.98111873e+11,\n",
       "         2.98175027e+11,  2.98437666e+11,  2.98554000e+11,  2.98690776e+11,\n",
       "         2.98922078e+11,  2.98961816e+11,  2.99057193e+11,  2.99142661e+11,\n",
       "         2.99327429e+11,  2.99346858e+11,  2.99525899e+11,  2.99668275e+11,\n",
       "         2.99693088e+11,  2.99839985e+11,  2.99968472e+11,  2.99976283e+11,\n",
       "         3.00084472e+11,  3.00180395e+11,  3.00243615e+11,  3.00259317e+11,\n",
       "         3.00320241e+11,  3.00363899e+11,  3.00390106e+11,  3.00479202e+11,\n",
       "         3.00549703e+11,  3.00679795e+11,  3.00845110e+11,  3.00974478e+11,\n",
       "         3.01067262e+11,  3.01123036e+11,  3.01482934e+11,  3.01775490e+11,\n",
       "         3.02731567e+11,  3.03416807e+11,  3.03830923e+11,  3.04124265e+11,\n",
       "         3.06156214e+11,  3.07438601e+11,  3.09064756e+11,  3.12140820e+11,\n",
       "         3.15036157e+11,  3.47604264e+11,  3.95505587e+11,  4.07233689e+11,\n",
       "         4.88069308e+11]))"
      ]
     },
     "execution_count": 19,
     "metadata": {},
     "output_type": "execute_result"
    }
   ],
   "source": [
    "L11=L1.imag\n",
    "L1.real,L11\n",
    "max(L11), L11"
   ]
  },
  {
   "cell_type": "code",
   "execution_count": 20,
   "metadata": {},
   "outputs": [
    {
     "name": "stdout",
     "output_type": "stream",
     "text": [
      "444\n",
      "444\n"
     ]
    }
   ],
   "source": [
    "for cero in zip(*np.where(L11<1)):    #Guardo el indice del valor propio=0 (el ultimo)\n",
    "    cero\n",
    "cero=cero[0]\n",
    "print(cero)\n",
    "if L11[cero+1]<1:\n",
    "    cero=cero+1\n",
    "print(cero)"
   ]
  },
  {
   "cell_type": "code",
   "execution_count": 39,
   "metadata": {},
   "outputs": [
    {
     "data": {
      "text/plain": [
       "(445,\n",
       " 889,\n",
       " array([[ 3.35448448e-02+0.00000000e+00j,  6.54162164e-02+0.00000000e+00j,\n",
       "          8.10107688e-02+0.00000000e+00j, ...,\n",
       "         -4.60077759e-16+1.68024464e-17j,  2.55495129e-16-3.20102679e-17j,\n",
       "          8.90724894e-16+7.22541048e-17j],\n",
       "        [ 3.35378718e-02-1.47236467e-07j, -1.79168317e-09-7.21572479e-07j,\n",
       "         -2.04383570e-08-2.56293288e-06j, ...,\n",
       "         -9.26049725e-20+1.64301534e-18j, -3.40615027e-19-9.65193480e-19j,\n",
       "          1.98090624e-19-1.96978470e-18j],\n",
       "        [ 3.35447823e-02+2.92203761e-13j,  6.54150867e-02+3.33570539e-09j,\n",
       "          8.09992618e-02+1.85787234e-07j, ...,\n",
       "          7.40432748e-17+6.35409217e-17j, -9.08561926e-17+6.08134288e-17j,\n",
       "         -1.14823826e-17-1.02309190e-16j],\n",
       "        ...,\n",
       "        [ 3.35378801e-02-1.46179357e-07j,  2.53518252e-04+2.27739402e-05j,\n",
       "         -7.18086606e-04-6.43423945e-05j, ...,\n",
       "          0.00000000e+00+0.00000000e+00j, -0.00000000e+00+0.00000000e+00j,\n",
       "         -0.00000000e+00+0.00000000e+00j],\n",
       "        [ 3.35378706e-02-1.47188565e-07j, -4.50239202e-05-1.21779192e-03j,\n",
       "          3.54757317e-05+1.20297658e-03j, ...,\n",
       "          0.00000000e+00+0.00000000e+00j, -0.00000000e+00+0.00000000e+00j,\n",
       "         -0.00000000e+00+0.00000000e+00j],\n",
       "        [ 3.35378718e-02-1.47236467e-07j, -1.45275032e-09+5.34275352e-11j,\n",
       "          5.00495457e-10-1.10632882e-11j, ...,\n",
       "          0.00000000e+00+0.00000000e+00j, -0.00000000e+00+0.00000000e+00j,\n",
       "         -0.00000000e+00+0.00000000e+00j]]),\n",
       " array([1.04450016e-06, 6.31627387e+08, 1.81145213e+09, 2.97034160e+09,\n",
       "        3.84147917e+09, 4.63060639e+09, 5.73691180e+09, 6.92326620e+09,\n",
       "        7.99802483e+09, 9.00084457e+09, 9.98615945e+09, 1.10649420e+10,\n",
       "        1.22898563e+10, 1.34602355e+10, 1.44519807e+10, 1.50698063e+10,\n",
       "        1.61447525e+10, 1.73441608e+10, 1.86305711e+10, 1.98315076e+10,\n",
       "        2.11121062e+10, 2.22837825e+10, 2.29752580e+10, 2.37172165e+10,\n",
       "        2.49142056e+10, 2.60974581e+10, 2.73483518e+10, 2.84669241e+10,\n",
       "        2.95849705e+10, 3.05945283e+10, 3.15186467e+10, 3.24326613e+10,\n",
       "        3.32466891e+10, 3.42063203e+10, 3.53842041e+10, 3.66028073e+10,\n",
       "        3.77942945e+10, 3.90911269e+10, 4.02550900e+10, 4.10482737e+10,\n",
       "        4.16524218e+10, 4.28302670e+10, 4.40870428e+10, 4.53531286e+10,\n",
       "        4.65483466e+10, 4.78507686e+10, 4.89867220e+10, 4.97251434e+10,\n",
       "        5.03874376e+10, 5.15239107e+10, 5.27319618e+10, 5.39300022e+10,\n",
       "        5.49952403e+10, 5.61288197e+10, 5.71326680e+10, 5.81496982e+10,\n",
       "        5.89562913e+10, 5.96381915e+10, 6.06629509e+10, 6.19320992e+10,\n",
       "        6.30757483e+10, 6.43344311e+10, 6.55685129e+10, 6.67392394e+10,\n",
       "        6.75412200e+10, 6.81107250e+10, 6.92258654e+10, 7.05473745e+10,\n",
       "        7.16964397e+10, 7.29600092e+10, 7.41751301e+10, 7.53131749e+10,\n",
       "        7.60921697e+10, 7.67034043e+10, 7.77578590e+10, 7.90173280e+10,\n",
       "        8.00761707e+10, 8.11601322e+10, 8.22440624e+10, 8.31844357e+10,\n",
       "        8.43103352e+10, 8.51329311e+10, 8.56849231e+10, 8.67529628e+10,\n",
       "        8.79806479e+10, 8.90656423e+10, 9.03841305e+10, 9.14706443e+10,\n",
       "        9.27328017e+10, 9.35066101e+10, 9.39888270e+10, 9.51409605e+10,\n",
       "        9.64042578e+10, 9.74828097e+10, 9.87959275e+10, 9.98411774e+10,\n",
       "        1.01008119e+11, 1.01662913e+11, 1.02361784e+11, 1.03448818e+11,\n",
       "        1.04597788e+11, 1.05492552e+11, 1.06524008e+11, 1.07521012e+11,\n",
       "        1.08502851e+11, 1.09721307e+11, 1.10584889e+11, 1.11144448e+11,\n",
       "        1.12182551e+11, 1.13225900e+11, 1.14393571e+11, 1.15604558e+11,\n",
       "        1.16635617e+11, 1.17852536e+11, 1.18476942e+11, 1.19129031e+11,\n",
       "        1.20340389e+11, 1.21368132e+11, 1.22458606e+11, 1.23487545e+11,\n",
       "        1.24181488e+11, 1.25131837e+11, 1.26270814e+11, 1.27209061e+11,\n",
       "        1.28304804e+11, 1.28904308e+11, 1.29655422e+11, 1.30865722e+11,\n",
       "        1.31899018e+11, 1.33017118e+11, 1.34194401e+11, 1.35105010e+11,\n",
       "        1.35861255e+11, 1.36624618e+11, 1.37495725e+11, 1.38691043e+11,\n",
       "        1.39647609e+11, 1.40502576e+11, 1.41512035e+11, 1.42380191e+11,\n",
       "        1.43416434e+11, 1.44453960e+11, 1.44890204e+11, 1.45670017e+11,\n",
       "        1.46902975e+11, 1.47805354e+11, 1.49051855e+11, 1.50051233e+11,\n",
       "        1.51150027e+11, 1.52080265e+11, 1.52372949e+11, 1.53294858e+11,\n",
       "        1.54545714e+11, 1.55419105e+11, 1.56671538e+11, 1.57597860e+11,\n",
       "        1.58675712e+11, 1.59524803e+11, 1.59923991e+11, 1.60756807e+11,\n",
       "        1.61856113e+11, 1.62601332e+11, 1.63523141e+11, 1.64589873e+11,\n",
       "        1.65400253e+11, 1.66611765e+11, 1.67417696e+11, 1.67637575e+11,\n",
       "        1.68659361e+11, 1.69719005e+11, 1.70652296e+11, 1.71870939e+11,\n",
       "        1.72690148e+11, 1.73933489e+11, 1.74748661e+11, 1.74898802e+11,\n",
       "        1.75939935e+11, 1.76931263e+11, 1.77887642e+11, 1.79043070e+11,\n",
       "        1.79839586e+11, 1.81043529e+11, 1.81775038e+11, 1.82100813e+11,\n",
       "        1.82967017e+11, 1.83861229e+11, 1.84569449e+11, 1.85573488e+11,\n",
       "        1.86353684e+11, 1.87285194e+11, 1.88377803e+11, 1.89111723e+11,\n",
       "        1.89421921e+11, 1.90377134e+11, 1.91134642e+11, 1.92262659e+11,\n",
       "        1.93177723e+11, 1.94112331e+11, 1.95209999e+11, 1.95956699e+11,\n",
       "        1.96288245e+11, 1.97175953e+11, 1.97882731e+11, 1.99030383e+11,\n",
       "        1.99847213e+11, 2.00815215e+11, 2.01818209e+11, 2.02523014e+11,\n",
       "        2.02977616e+11, 2.03744698e+11, 2.04366003e+11, 2.05279150e+11,\n",
       "        2.06083953e+11, 2.06674322e+11, 2.07733324e+11, 2.08488787e+11,\n",
       "        2.09381651e+11, 2.09836593e+11, 2.10439426e+11, 2.11151589e+11,\n",
       "        2.12294214e+11, 2.12931816e+11, 2.14043330e+11, 2.14793472e+11,\n",
       "        2.15705206e+11, 2.16099491e+11, 2.16682570e+11, 2.17406279e+11,\n",
       "        2.18497414e+11, 2.19092361e+11, 2.20191094e+11, 2.20837366e+11,\n",
       "        2.21549709e+11, 2.22055312e+11, 2.22707179e+11, 2.23374518e+11,\n",
       "        2.24149490e+11, 2.24683564e+11, 2.25339496e+11, 2.26368497e+11,\n",
       "        2.26920668e+11, 2.27947030e+11, 2.28545674e+11, 2.28773918e+11,\n",
       "        2.29587655e+11, 2.30458763e+11, 2.31095889e+11, 2.32131639e+11,\n",
       "        2.32628872e+11, 2.33246141e+11, 2.33885575e+11, 2.34400219e+11,\n",
       "        2.35260272e+11, 2.35869467e+11, 2.36157495e+11, 2.36869216e+11,\n",
       "        2.37767134e+11, 2.38306944e+11, 2.39345907e+11, 2.39831373e+11,\n",
       "        2.40596143e+11, 2.40869752e+11, 2.41463519e+11, 2.42253459e+11,\n",
       "        2.43103468e+11, 2.43655802e+11, 2.44654146e+11, 2.45103474e+11,\n",
       "        2.45720501e+11, 2.46138258e+11, 2.46680043e+11, 2.47223111e+11,\n",
       "        2.47893391e+11, 2.48384337e+11, 2.49029406e+11, 2.49896747e+11,\n",
       "        2.50335880e+11, 2.51191168e+11, 2.51337314e+11, 2.51761273e+11,\n",
       "        2.52626894e+11, 2.53242370e+11, 2.53897348e+11, 2.54712785e+11,\n",
       "        2.55164703e+11, 2.56097710e+11, 2.56144622e+11, 2.56486440e+11,\n",
       "        2.57390983e+11, 2.57900584e+11, 2.58606506e+11, 2.59342683e+11,\n",
       "        2.59803552e+11, 2.60687964e+11, 2.60859288e+11, 2.61060949e+11,\n",
       "        2.61856688e+11, 2.62378429e+11, 2.62712320e+11, 2.63355292e+11,\n",
       "        2.63861689e+11, 2.64384620e+11, 2.65179445e+11, 2.65435385e+11,\n",
       "        2.65519833e+11, 2.66373220e+11, 2.66737385e+11, 2.67465483e+11,\n",
       "        2.68013682e+11, 2.68526308e+11, 2.69261572e+11, 2.69582835e+11,\n",
       "        2.69729109e+11, 2.70421889e+11, 2.70698833e+11, 2.71467141e+11,\n",
       "        2.71904788e+11, 2.72466930e+11, 2.73121958e+11, 2.73455996e+11,\n",
       "        2.73782982e+11, 2.74249278e+11, 2.74509806e+11, 2.75215658e+11,\n",
       "        2.75666717e+11, 2.76074808e+11, 2.76594155e+11, 2.76877827e+11,\n",
       "        2.77232896e+11, 2.77634876e+11, 2.77933875e+11, 2.78149710e+11,\n",
       "        2.78839958e+11, 2.79211445e+11, 2.79698447e+11, 2.80271526e+11,\n",
       "        2.80546381e+11, 2.81191615e+11, 2.81250573e+11, 2.81424626e+11,\n",
       "        2.82091302e+11, 2.82385323e+11, 2.82885399e+11, 2.83354059e+11,\n",
       "        2.83661739e+11, 2.84293701e+11, 2.84448680e+11, 2.84515009e+11,\n",
       "        2.85094301e+11, 2.85352502e+11, 2.85823750e+11, 2.86288246e+11,\n",
       "        2.86533567e+11, 2.87139418e+11, 2.87289567e+11, 2.87571734e+11,\n",
       "        2.87816675e+11, 2.88156142e+11, 2.88311539e+11, 2.88624285e+11,\n",
       "        2.89031740e+11, 2.89203340e+11, 2.89757855e+11, 2.89922016e+11,\n",
       "        2.90363858e+11, 2.90412259e+11, 2.90715547e+11, 2.90951183e+11,\n",
       "        2.91456539e+11, 2.91544096e+11, 2.92038471e+11, 2.92237435e+11,\n",
       "        2.92572576e+11, 2.92913730e+11, 2.92962413e+11, 2.93087507e+11,\n",
       "        2.93561880e+11, 2.93578629e+11, 2.94046428e+11, 2.94205562e+11,\n",
       "        2.94510822e+11, 2.94827809e+11, 2.94958744e+11, 2.95253937e+11,\n",
       "        2.95368759e+11, 2.95456571e+11, 2.95784771e+11, 2.96037695e+11,\n",
       "        2.96179648e+11, 2.96540883e+11, 2.96612275e+11, 2.96903343e+11,\n",
       "        2.97137080e+11, 2.97236928e+11, 2.97273974e+11, 2.97546676e+11,\n",
       "        2.97644505e+11, 2.97723093e+11, 2.97897164e+11, 2.98111873e+11,\n",
       "        2.98175027e+11, 2.98437666e+11, 2.98554000e+11, 2.98690776e+11,\n",
       "        2.98922078e+11, 2.98961816e+11, 2.99057193e+11, 2.99142661e+11,\n",
       "        2.99327429e+11, 2.99346858e+11, 2.99525899e+11, 2.99668275e+11,\n",
       "        2.99693088e+11, 2.99839985e+11, 2.99968472e+11, 2.99976283e+11,\n",
       "        3.00084472e+11, 3.00180395e+11, 3.00243615e+11, 3.00259317e+11,\n",
       "        3.00320241e+11, 3.00363899e+11, 3.00390106e+11, 3.00479202e+11,\n",
       "        3.00549703e+11, 3.00679795e+11, 3.00845110e+11, 3.00974478e+11,\n",
       "        3.01067262e+11, 3.01123036e+11, 3.01482934e+11, 3.01775490e+11,\n",
       "        3.02731567e+11, 3.03416807e+11, 3.03830923e+11, 3.04124265e+11,\n",
       "        3.06156214e+11, 3.07438601e+11, 3.09064756e+11, 3.12140820e+11,\n",
       "        3.15036157e+11, 3.47604264e+11, 3.95505587e+11, 4.07233689e+11,\n",
       "        4.88069308e+11]))"
      ]
     },
     "execution_count": 39,
     "metadata": {},
     "output_type": "execute_result"
    }
   ],
   "source": [
    "L2= L11[cero::]      #Tomar los valores positivos de los valores propios ordenados\n",
    "Vp2= Vp1[:,cero::]\n",
    "lenL2 = len(L2)\n",
    "lenL2,len(Vp2),Vp2,L2\n"
   ]
  },
  {
   "cell_type": "code",
   "execution_count": 44,
   "metadata": {},
   "outputs": [
    {
     "name": "stdout",
     "output_type": "stream",
     "text": [
      "Rango de frecuencias comprendido entre: 1.005e+08 Hz y 7.768e+10 Hz\n",
      "Ingrese un numero entre 0 y 444 para trabajar con esa frecuencia dentro del rango presentado: 70\n",
      "Se observarán los campos electromagnéticos asociados a la frecuencia: 1.181e+10 Hz.\n"
     ]
    }
   ],
   "source": [
    "fnum = np.zeros(lenL2)\n",
    "for j in range(0,lenL2):\n",
    "    \n",
    "    fnum[j] = (L2[j])/(2*np.pi)\n",
    "    \n",
    "print(\"Rango de frecuencias comprendido entre: \" + np.format_float_scientific(fnum[1],precision = 3, exp_digits=2) + \" Hz y \" + np.format_float_scientific(fnum[-1],precision = 3, exp_digits=2) + \" Hz\")\n",
    "frecu=int(input(\"Ingrese un numero entre 0 y \" + str(len(L2)-1)  + \" para trabajar con esa frecuencia dentro del rango presentado: \"))\n",
    "\n",
    "frecuencia=L2[frecu]/(2*np.pi)\n",
    "\n",
    "print(\"Se observarán los campos electromagnéticos asociados a la frecuencia: \" + np.format_float_scientific(frecuencia,precision = 3, exp_digits=2) + \" Hz.\")\n",
    "\n"
   ]
  },
  {
   "cell_type": "code",
   "execution_count": 48,
   "metadata": {},
   "outputs": [
    {
     "name": "stdout",
     "output_type": "stream",
     "text": [
      "11\n"
     ]
    },
    {
     "data": {
      "text/plain": [
       "(11805338609.16575, 16805338609.16575, 6805338609.1657505)"
      ]
     },
     "execution_count": 48,
     "metadata": {},
     "output_type": "execute_result"
    }
   ],
   "source": [
    "\n",
    "for num in range(0,len(str(frecuencia))):\n",
    "    if str(frecuencia)[num]==\".\":\n",
    "        print(num)\n",
    "        long=num\n",
    "#len(str(frecuencia)),frecuencia\n",
    "frecuencia,frecuencia+0.5*10**(long-1),frecuencia-0.5*10**(long-1)"
   ]
  },
  {
   "cell_type": "code",
   "execution_count": 49,
   "metadata": {},
   "outputs": [
    {
     "data": {
      "text/plain": [
       "(16805338609.16575, 488069308015.73584)"
      ]
     },
     "execution_count": 49,
     "metadata": {},
     "output_type": "execute_result"
    }
   ],
   "source": [
    "7.65954228e+03/(2*np.pi)\n",
    "L2[-1],len(L2)\n",
    "frecuencia+0.5*10**(long-1),L2[-1]"
   ]
  },
  {
   "cell_type": "code",
   "execution_count": 51,
   "metadata": {},
   "outputs": [
    {
     "name": "stdout",
     "output_type": "stream",
     "text": [
      "[7, 8, 9, 10, 11, 12, 13, 14, 15, 16]\n"
     ]
    },
    {
     "data": {
      "text/plain": [
       "(10, 10, 16)"
      ]
     },
     "execution_count": 51,
     "metadata": {},
     "output_type": "execute_result"
    }
   ],
   "source": [
    "lista = []\n",
    "if L2[-1]>=frecuencia+0.5*10**(long-1):\n",
    "    for freq in zip(*np.where(np.logical_and(L2<=frecuencia+0.5*10**(long-1),L2>=frecuencia-0.5*10**(long-1)))):   #Guardo el indice de los errores que estan por debajo del % de error aceptable\n",
    "        freq = freq[0]\n",
    "        lista.append(freq)\n",
    "    print(lista)\n",
    "    lenlista = len(lista)\n",
    "\n",
    "else:\n",
    "    for freq in zip(*np.where(L2>=L2[-15])):   #Guardo el indice de los errores que estan por debajo del % de error aceptable\n",
    "        freq = freq[0]\n",
    "        lista.append(freq)\n",
    "    \n",
    "    lenlista = len(lista)  \n",
    "    \n",
    "    \n",
    "nlen=len(lista)       \n",
    "lenlista,nlen,lista[nlen-1]"
   ]
  },
  {
   "cell_type": "code",
   "execution_count": 52,
   "metadata": {},
   "outputs": [
    {
     "data": {
      "text/plain": [
       "7"
      ]
     },
     "execution_count": 52,
     "metadata": {},
     "output_type": "execute_result"
    }
   ],
   "source": [
    "val_prop_real=[]\n",
    "vec_prop_real=[]\n",
    "vec=Vp2\n",
    "lista[0]"
   ]
  },
  {
   "cell_type": "code",
   "execution_count": 53,
   "metadata": {},
   "outputs": [],
   "source": [
    "for l in range(0,nlen):\n",
    "    val_prop_real.append(L2[lista[l]])\n",
    "    \n",
    "vec_prop_real=Vp2[:,lista[0]:lista[nlen-1]+1]"
   ]
  },
  {
   "cell_type": "code",
   "execution_count": 54,
   "metadata": {},
   "outputs": [
    {
     "data": {
      "text/plain": [
       "array([[ 1.10084199e-01+0.00000000e+00j,  1.21126381e-01+0.00000000e+00j,\n",
       "        -1.30250372e-01-2.22925799e-05j, ...,\n",
       "        -1.78443156e-01-1.16302009e-05j, -1.68249863e-01+5.33594698e-06j,\n",
       "        -8.81970759e-02+1.28995559e-06j],\n",
       "       [-3.40868024e-08-1.33107167e-05j, -5.27292401e-08-1.69194983e-05j,\n",
       "         4.54626310e-08+2.04751923e-05j, ...,\n",
       "        -2.37115411e-08+4.50394447e-05j, -2.38041434e-08+4.42820889e-05j,\n",
       "        -1.53949973e-08+2.48686052e-05j],\n",
       "       [ 1.09855778e-01+1.16778367e-06j,  1.20790958e-01+2.09253861e-06j,\n",
       "        -1.29793561e-01-2.43978383e-05j, ...,\n",
       "        -1.76829737e-01-1.00374930e-05j, -1.66595761e-01+7.16794022e-06j,\n",
       "        -8.72018778e-02+2.53437878e-06j],\n",
       "       ...,\n",
       "       [ 2.61605995e-03+1.20933784e-04j, -2.61980310e-03-5.08986764e-05j,\n",
       "        -2.43286316e-03-3.43247671e-05j, ...,\n",
       "         2.42954461e-03+2.69683497e-05j, -3.18469656e-03-2.26170925e-05j,\n",
       "         6.58556157e-03+2.13538065e-04j],\n",
       "       [-8.94372167e-05-1.14035727e-03j,  1.03306710e-04+9.85292906e-04j,\n",
       "         9.01575958e-05+8.12442060e-04j, ...,\n",
       "        -5.90310525e-05-5.04952334e-04j,  7.68104969e-05+6.34432167e-04j,\n",
       "        -1.17352381e-04-1.22854457e-03j],\n",
       "       [-1.24147798e-10+9.79457130e-12j,  9.28572081e-11-9.76975417e-12j,\n",
       "         6.80316133e-11-7.65491092e-12j, ...,\n",
       "        -2.63262862e-11+3.25785103e-12j,  3.17195397e-11-4.06978291e-12j,\n",
       "        -5.73445240e-11+5.92083984e-12j]])"
      ]
     },
     "execution_count": 54,
     "metadata": {},
     "output_type": "execute_result"
    }
   ],
   "source": [
    "L3= (val_prop_real)             #Como los valores propios ordenados ya se habían ordenado y se habían tomado solo los positivos, tomamos los primeros 34 valores de k (positivos)\n",
    "Vp3=(vec_prop_real)      #Los vectores propios ordenados incluyen negativos y positivos entonces tomamos las columnas correspondientes a los valores propios tomados antes\n",
    "len(Vp3)\n",
    "vec_prop_real"
   ]
  },
  {
   "cell_type": "code",
   "execution_count": 55,
   "metadata": {},
   "outputs": [
    {
     "data": {
      "text/plain": [
       "(10, 10, 10, 10, 445, 445, 444)"
      ]
     },
     "execution_count": 55,
     "metadata": {},
     "output_type": "execute_result"
    }
   ],
   "source": [
    "Vp3_E=Vp3[::2]\n",
    "Vp3_H=Vp3[1::2]\n",
    "fila=len(Vp3_E[1,:])\n",
    "E=np.zeros((len(z),len(Vp3[1,:])),dtype=np.complex_)\n",
    "H=np.zeros((len(z2),len(Vp3[1,:])),dtype=np.complex_)\n",
    "\n",
    "len(Vp3_E[1,:]),len(Vp3[1,:]),fila,len(Vp3[1,:]),len(z),len(E),len(H)\n"
   ]
  },
  {
   "cell_type": "code",
   "execution_count": 56,
   "metadata": {},
   "outputs": [],
   "source": [
    "for i in range(0,fila):\n",
    "    E[:,i]=Vp3_E[:,i]\n",
    "    H[:,i]=Vp3_H[:,i]"
   ]
  },
  {
   "cell_type": "code",
   "execution_count": 57,
   "metadata": {},
   "outputs": [],
   "source": [
    "### Crear figura y ejes\n",
    "\n",
    "def test(i):\n",
    "    fig = plt.figure(figsize=(14, 20))\n",
    "    aE1 = fig.add_subplot(321)\n",
    "    aH1 = fig.add_subplot(322)\n",
    "    aE2 = fig.add_subplot(323)\n",
    "    aH2 = fig.add_subplot(324)\n",
    "    aE3 = fig.add_subplot(325)\n",
    "    aH3 = fig.add_subplot(326)\n",
    "\n",
    "# Plot\n",
    "\n",
    "    \n",
    "    aE1.plot(z, E[:,i].real,color='blue', linewidth=1)\n",
    "    aH1.plot(z2, H[:,i].imag,color='red', linewidth=1)\n",
    "\n",
    "\n",
    "    aE2.plot(z, E[:,i].imag,color='blue', linewidth=1)\n",
    "    aH2.plot(z2, H[:,i].real,color='red', linewidth=1)\n",
    "\n",
    "\n",
    "    aE3.plot(z, abs(E[:,i]),color='blue', linewidth=1)\n",
    "    aH3.plot(z2, abs(H[:,i]),color='red', linewidth=1)\n",
    "    \n",
    "    plt.autoscale(enable=True, axis='y')\n",
    "    plt.autoscale(enable=True, axis='x')\n",
    "\n",
    "    plt.suptitle('campos E y H')\n",
    "    plt.xlabel('z')\n",
    "\n",
    "    return()\n"
   ]
  },
  {
   "cell_type": "code",
   "execution_count": 59,
   "metadata": {},
   "outputs": [
    {
     "data": {
      "application/vnd.jupyter.widget-view+json": {
       "model_id": "a5f18518542f4b8994b6e03292a3bd5c",
       "version_major": 2,
       "version_minor": 0
      },
      "text/plain": [
       "interactive(children=(IntSlider(value=4, description='i', max=9), Output()), _dom_classes=('widget-interact',)…"
      ]
     },
     "metadata": {},
     "output_type": "display_data"
    },
    {
     "name": "stdout",
     "output_type": "stream",
     "text": [
      "Campos electromagnéticos en un rango de frecuencias de: 6.805e+09 Hz y 1.681e+10 Hz.\n"
     ]
    }
   ],
   "source": [
    "interact(test,i=(0,fila-1))\n",
    "print(\"Campos electromagnéticos en un rango de frecuencias de: \" + np.format_float_scientific(frecuencia-0.5*10**(long-1),precision = 3, exp_digits=2) + \" Hz y \" + np.format_float_scientific(frecuencia+0.5*10**(long-1),precision = 3, exp_digits=2) + \" Hz.\" )"
   ]
  },
  {
   "cell_type": "code",
   "execution_count": null,
   "metadata": {},
   "outputs": [],
   "source": []
  },
  {
   "cell_type": "code",
   "execution_count": null,
   "metadata": {},
   "outputs": [],
   "source": []
  }
 ],
 "metadata": {
  "kernelspec": {
   "display_name": "Python 3",
   "language": "python",
   "name": "python3"
  },
  "language_info": {
   "codemirror_mode": {
    "name": "ipython",
    "version": 3
   },
   "file_extension": ".py",
   "mimetype": "text/x-python",
   "name": "python",
   "nbconvert_exporter": "python",
   "pygments_lexer": "ipython3",
   "version": "3.8.5"
  }
 },
 "nbformat": 4,
 "nbformat_minor": 4
}
